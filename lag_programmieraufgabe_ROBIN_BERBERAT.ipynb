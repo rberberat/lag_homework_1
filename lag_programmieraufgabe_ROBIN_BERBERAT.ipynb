{
 "cells": [
  {
   "cell_type": "markdown",
   "metadata": {},
   "source": [
    "# Programmierübung: Der Page Rank - Algorithmus\n",
    "\n",
    "## Modul: Lineare Algebra und Geometrie (lag)\n",
    "\n",
    "## FS 2020\n",
    "\n",
    "## Prof. Dr. Andreas Vogt\n",
    "\n",
    "Das folgende Notebook ist von Ihnen auszufüllen. Der Abgabetermin ist am 3. April 2020. Es wird sowohl die Korrektheit der Programme als auch die Darstellung bewertet. Wie genau die Note in die Erfahrungsnote bzw. die Endnote des Moduls einfliesst, ist zur Zeit noch nicht ganz klar."
   ]
  },
  {
   "cell_type": "markdown",
   "metadata": {},
   "source": [
    "Wir laden zuerst die für diese Übung benötigten Module. **Hinweis:** Wir benutzen das Modul `networkx` für die graphische Darstellung von Graphen. Gegebenenfalls müssen Sie dies noch nachinstallieren."
   ]
  },
  {
   "cell_type": "code",
   "execution_count": 1,
   "metadata": {
    "pycharm": {
     "is_executing": false
    }
   },
   "outputs": [],
   "source": [
    "import numpy as np\n",
    "import matplotlib.pyplot as plt\n",
    "import networkx as nx\n",
    "import scipy"
   ]
  },
  {
   "cell_type": "markdown",
   "metadata": {},
   "source": [
    "## Adjazenz- und Inzidenzmatrix"
   ]
  },
  {
   "cell_type": "markdown",
   "metadata": {},
   "source": [
    "Recherchieren Sie, was die Adjazenzmatrix bzw. die Inzidenzmatrix eines Graphen $G$ ist. Stellen Sie beide Konzepte in sauberem LaTeX dar. Illustrieren Sie beide Konzepte an Hand eines Beispiels."
   ]
  },
  {
   "cell_type": "markdown",
   "metadata": {
    "pycharm": {
     "is_executing": false,
     "name": "#%% md\n"
    }
   },
   "source": [
    "<img src=\"title.png\" width=1000>"
   ]
  },
  {
   "cell_type": "markdown",
   "source": [
    "<img src=\"IM.png\" width=1000>"
   ],
   "metadata": {
    "collapsed": false,
    "pycharm": {
     "name": "#%% md\n"
    }
   }
  },
  {
   "cell_type": "markdown",
   "source": [
    "<img src=\".\AM.png\" width=1000>"
   ],
   "metadata": {
    "collapsed": false,
    "pycharm": {
     "name": "#%% md\n"
    }
   }
  },
  {
   "cell_type": "markdown",
   "metadata": {},
   "source": [
    "Der folgende Graph sei nun gegeben:"
   ]
  },
  {
   "cell_type": "markdown",
   "metadata": {},
   "source": [
    "<img src=\"Graph1.png\" width=600>"
   ]
  },
  {
   "cell_type": "markdown",
   "metadata": {},
   "source": [
    "Definieren Sie zuerst seine Inzidenzmatrix $E$ als Numpy-array."
   ]
  },
  {
   "cell_type": "code",
   "execution_count": 2,
   "metadata": {
    "pycharm": {
     "is_executing": false
    }
   },
   "outputs": [],
   "source": [
    "nodes = [0, 1, 2, 3, 4, 5, 6, 7]\n",
    "edges = [[0, 1], [0, 6], [0, 7], \n",
    "         [1, 2], [1, 7], \n",
    "         [2, 1], [2, 7], \n",
    "         [3, 5], [3, 7], \n",
    "         [4, 5], \n",
    "         [5, 6], \n",
    "         [6, 5], \n",
    "         [7, 6]]\n",
    "\n",
    "G = nx.DiGraph()\n",
    "G.add_nodes_from(nodes)\n",
    "G.add_edges_from(edges)\n",
    "\n",
    "incidence_matrix = -nx.incidence_matrix(G, oriented=True)\n",
    "\n",
    "E = np.array(incidence_matrix.toarray())\n",
    "\n"
   ]
  },
  {
   "cell_type": "markdown",
   "metadata": {},
   "source": [
    "Schreiben Sie eine Funktion, die als Eingabe die Inzidenzmatrix eines Graphen erhält und die entsprechende Adjazenzmatrix ausgibt."
   ]
  },
  {
   "cell_type": "code",
   "execution_count": 3,
   "metadata": {
    "pycharm": {
     "is_executing": false
    }
   },
   "outputs": [],
   "source": [
    "def turn_im_into_am( E ):\n",
    "    edge_starting_points = np.where(E.T > 0)\n",
    "    edge_end_points = np.where(E.T < 0)\n",
    "\n",
    "    g = nx.DiGraph()\n",
    "\n",
    "    for i in range(len(E)):\n",
    "        g.add_node(i)\n",
    "\n",
    "    for i in range(len(edge_starting_points[1])):\n",
    "        foo = edge_starting_points[1][i]\n",
    "        bar = edge_end_points[1][i]\n",
    "        g.add_edge(foo, bar)\n",
    "\n",
    "    am = nx.adjacency_matrix(g)\n",
    "\n",
    "    return np.array(am.toarray())"
   ]
  },
  {
   "cell_type": "markdown",
   "metadata": {},
   "source": [
    "Zur Visualisierung Ihrer Graphen stellen wir Ihnen eine Funktion zur Verfügung. "
   ]
  },
  {
   "cell_type": "code",
   "execution_count": 4,
   "metadata": {
    "pycharm": {
     "is_executing": false
    }
   },
   "outputs": [],
   "source": [
    "def plot_graph( A, knoten_gewichte=None ):\n",
    "    \"\"\"\n",
    "    Funktion zur graphischen Darstellung eines Graphen. \n",
    "    Benutzt das 'spring layout', eventuell muss die Funktion mehrere Male ausgeführt werden, bis eine schöne Darstellung \n",
    "    des Graphen vorliegt.\n",
    "    \n",
    "    Arguments: \n",
    "    A -- Adjazenzmatrix (shape (n_knoten,n_knoten))\n",
    "    knoten_gewichte -- Liste mit Gewichte für jeden Knoten im Graphen (bei None erhalten alle Knoten die gleichen Gewichte)\n",
    "    \"\"\"\n",
    "    \n",
    "    if knoten_gewichte is None:\n",
    "        knoten_gewichte = np.array( [1] * A.shape[0] )\n",
    "    \n",
    "    assert( len( knoten_gewichte) == A.shape[0] )\n",
    "        \n",
    "    knoten_gewichte = knoten_gewichte / np.mean( knoten_gewichte )\n",
    "    \n",
    "    plt.figure(figsize=(8,8))\n",
    "    G = nx.DiGraph( A )\n",
    "    pos = nx.layout.spring_layout(G)\n",
    "    options = {\n",
    "    'node_color': '#dd0000',\n",
    "    'node_size': knoten_gewichte*2500,\n",
    "    'width': 3,\n",
    "    'arrowstyle': '-|>',\n",
    "    'arrowsize': 12,\n",
    "    }\n",
    "        \n",
    "    nx.draw_networkx(G, pos, arrows=True, **options )\n",
    "    plt.axis(\"off\")\n",
    "    plt.show()"
   ]
  },
  {
   "cell_type": "markdown",
   "metadata": {},
   "source": [
    "Lassen Sie von ihrer Funktion die Ajazenzmatrix $A$ zu der oben eingegebenen Inzidenzmatrix $E$ berechnen und visualisieren Sie den zugehörigen Graphen mit der obigen Funktion."
   ]
  },
  {
   "cell_type": "code",
   "execution_count": 5,
   "metadata": {
    "pycharm": {
     "is_executing": false
    }
   },
   "outputs": [
    {
     "data": {
      "image/png": "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\n",
      "text/plain": [
       "<Figure size 576x576 with 1 Axes>"
      ]
     },
     "metadata": {},
     "output_type": "display_data"
    }
   ],
   "source": [
    "A = turn_im_into_am(E)\n",
    "plot_graph(A)"
   ]
  },
  {
   "cell_type": "markdown",
   "metadata": {},
   "source": [
    "Schreiben SIe eine Funktion, die als Eingabe die Adjazenzmatrix eines Graphen erhält und die entsprechende Inzidenzmatrix ausgibt."
   ]
  },
  {
   "cell_type": "code",
   "execution_count": 6,
   "metadata": {
    "pycharm": {
     "is_executing": false
    }
   },
   "outputs": [],
   "source": [
    "def turn_am_into_im(A):\n",
    "    g = nx.DiGraph(A)\n",
    "\n",
    "    im = -nx.incidence_matrix(g, oriented=True)\n",
    "\n",
    "    return np.array(im.toarray())\n"
   ]
  },
  {
   "cell_type": "markdown",
   "metadata": {},
   "source": [
    "## Der PageRank-Algorithmus"
   ]
  },
  {
   "cell_type": "markdown",
   "metadata": {},
   "source": [
    "Schreiben Sie eine Funktion, die als Eingabe die Inzidenzmatrix eines Graphens erhält und die zugehörige Link-Matrix $P$ ausgibt."
   ]
  },
  {
   "cell_type": "code",
   "execution_count": 7,
   "metadata": {
    "pycharm": {
     "is_executing": false
    }
   },
   "outputs": [],
   "source": [
    "def create_lm_from_im(im):\n",
    "    am = turn_im_into_am(im)\n",
    "    am = am.astype(float)\n",
    "\n",
    "    foo = np.sum(am, axis=1, dtype=float)\n",
    "\n",
    "    for i, s in enumerate(foo):\n",
    "        foo[i] = 1/s\n",
    "\n",
    "    for iterable, value in enumerate(am):\n",
    "        am[iterable] = value*foo[iterable]\n",
    "\n",
    "    return am.T"
   ]
  },
  {
   "cell_type": "markdown",
   "metadata": {},
   "source": [
    "Schreiben Sie eine Funktion, die als Eingabe die Inzidenzmatrix eines Graphens erhält und als Ausgabe den Vektor $v$ mit $|v|=1$ ausgibt, der die Bedeutung der Webseiten erhält. Verwenden Sie $\\alpha=0.85$."
   ]
  },
  {
   "cell_type": "code",
   "execution_count": 11,
   "metadata": {
    "pycharm": {
     "is_executing": false
    }
   },
   "outputs": [],
   "source": [
    "# Studentenversion\n",
    "def create_meaning_vector_from_im(im, alpha=0.85):\n",
    "\n",
    "    # Create Link Matrix and multiply by alpha to get P\n",
    "    P = create_lm_from_im(im)\n",
    "    P = P * alpha\n",
    "\n",
    "    # Create Matrix of Random Surf-behaviour and multiply by 1-alpha to get S\n",
    "    S = np.ones((len(P), len(P)), dtype=float)/len(P)\n",
    "    S = S * (1-alpha)\n",
    "\n",
    "    # Combine P and S to get the Google Matrix\n",
    "    G = P + S #G\n",
    "\n",
    "    # Create Identity Matrix En\n",
    "    En = np.eye(len(G), dtype=float)\n",
    "\n",
    "    # Subtract Identity Matrix (En) from Google Matrix (G) to get our A for the formula Ax = B\n",
    "    A = G - En #G-En\n",
    "\n",
    "    # Create B for the Formula Ax = B. A Vector of Ones is chosen, since a vector of 0s would yield an unusable result.\n",
    "    B = np.ones((len(A)), dtype=float)\n",
    "\n",
    "    # Solve the Formula for x.\n",
    "    solution = np.linalg.solve(A, B)\n",
    "\n",
    "    # Normalize the Solution\n",
    "    solution_normalizer = np.linalg.norm(solution)\n",
    "    normalized_solution = []\n",
    "    for result in solution:\n",
    "        normalized_result = result / solution_normalizer\n",
    "        if normalized_result < 0:\n",
    "            normalized_result = 0\n",
    "        normalized_solution.append(normalized_result)\n",
    "\n",
    "    return normalized_solution\n",
    "\n",
    "# Professionellere Lösung\n",
    "def create_PageRank_with_NXAlgo(im, alpha=0.85):\n",
    "    g = nx.DiGraph(turn_im_into_am(im))\n",
    "\n",
    "    return list(nx.pagerank(g, alpha=alpha).values())"
   ]
  },
  {
   "cell_type": "markdown",
   "metadata": {},
   "source": [
    "Schreiben Sie eine Funktion, die als Eingabe die Inzidenzmatrix eines Graphens erhält und den zugehörigen Graphen plottet, wobei die Grösse der Knoten proportional zu ihrer Bedeutung sein soll."
   ]
  },
  {
   "cell_type": "code",
   "execution_count": 12,
   "metadata": {
    "pycharm": {
     "is_executing": false
    }
   },
   "outputs": [],
   "source": [
    "def plot_Graph_from_Im(IM, use_student_made_algo=False):\n",
    "    AM = turn_im_into_am(IM)\n",
    "\n",
    "    if(use_student_made_algo):\n",
    "        weights = create_meaning_vector_from_im(IM)\n",
    "    else:\n",
    "        weights = create_PageRank_with_NXAlgo(IM)\n",
    "\n",
    "    plot_graph(AM, knoten_gewichte=weights)"
   ]
  },
  {
   "cell_type": "code",
   "execution_count": 13,
   "metadata": {
    "pycharm": {
     "is_executing": false,
     "name": "#%%\n"
    }
   },
   "outputs": [
    {
     "data": {
      "image/png": "iVBORw0KGgoAAAANSUhEUgAAAcwAAAHBCAYAAADkRYtYAAAABHNCSVQICAgIfAhkiAAAAAlwSFlzAAALEgAACxIB0t1+/AAAADh0RVh0U29mdHdhcmUAbWF0cGxvdGxpYiB2ZXJzaW9uMy4yLjEsIGh0dHA6Ly9tYXRwbG90bGliLm9yZy+j8jraAAAgAElEQVR4nOzdd5hkVbX38e9iEjNDzjkUGUkSBBEEAYmCqAQRwYCCYtaL13sRQRDDfY1XLwYUFVABAQkCEiQoSFaCBAmF5MzA5LzeP/Yu6nRPV3V1dVXtU+f8Ps8zz5w6dbpqzUxPrd777L2WuTsiIiLS3GKpAxAREekHSpgiIiItUMIUERFpgRKmiIhIC5QwRUREWqCEKSIi0gIlTBERkRYoYYqIiLRACVNERKQFSpgiIiItUMIUERFpgRKmiIhIC5QwRUREWqCEKSIi0gIlTBERkRYoYYqIiLRACVNERKQFSpgiIiItUMIUERFpgRKmiIhIC5QwRUREWqCEKSIi0gIlTBERkRYoYYqIiLRACVNERKQFSpgiIiItGJs6gDKpmhmwJLAasDzh738MsACYB7wMPAtMq7h7qjhFRGRRps/lzouJcT1gG2B7YGdgTWBZwIDZwMIhvnQxYGJ8bgrwBPBX4FbgTqCqRCoikoYSZodUzZYF9gEOA3aLpxcAkxnd1PdCYDphNOrAn4HfAX+quL86itcVEZERUMIcharZJOC9wLHA5sAcwpRrt00DJgB3A6cB51bcZ/XgfUVESksJsw1Vsw2BTwMfJIz6lkgYzvT4+xnADyvujySMRUSksJQwR6BqtinwXWAXwmKdcWkjGmAeYQr4OuDzFfcHE8cjIlIoSpgtqJqtBXwTOBAYT0iWebUAmAtcAPxXxf2pxPGIiBSCEmYTVbNxwAnAfxAW3eRpRDmcuYTk+S3g6xX3eYnjEZESi7sHdgG2IuwYmAe8AlxTcX8oZWytUsJsoGq2JfB7wp7JyYnDGY0ZwFPAwRX3e1MHIyLlUjVbGvgAcBywDGHgMZ6w/mMOYavdP4D/Af5YcZ+fKNRhKWEOUjUbA5xIGFUuTvjH7HdO2Pv5LeBrFfcFieMRkRKomr0DODc+nDTM5dMII87dKu7VrgbWJiXMjKrZMsDFwLYM/4/bj2YSiiAcWHGfmjoYESmuqtkHgB8TirG0agEhce5Ucb+vK4GNghJmVDXbCLgGWJGwx7Go5gDPAXtoC4qIdEPVbE/gIkaWLGsceAnYsuL+bEcDGyUVXweqZnsAdxDuVxY5WUL4860J/L1qtmviWESkYOJtrd8wTLJ8DNgE+PyiTxlhUdB3Ox/d6JQ+YcY59osJxQfK8vexGKEi0WVVs71TByMihbIfLQw8TgK2aPz0WODAWHI0N8qSIIZUNdsfOI9i3q9sxSTgwqrZPqkDEZHC+CLDlAi9FFgK2LH56ywEPtSpoDqhtAkzzrGfS3tz7EUyETi/arZ76kBEpL/FIi/bNLtmGvB94L+Gf7lJwGc6EVenlDJhVs3eAFyIkmXNJOCiqtnGqQMRkb62LmFhYUPfAw4hLBhpQYuX9UbpEmbVbHnCatiyTsM2Mgm4Jm/3DESkryzT7Mn7gb8xonnWxapmuVmIOTZ1AL0US91dBixHMQoSdNJiwArApVWzXfNcbUNE8mkezDIY0yix3EooO7ZzfDyTsPHyEeCSxi87t4Mhjkqp9mFWzb4PfBSNLpuZCfxfxf2LqQMRkfyzMCu1J7DvG2D/38GyjWqJzqLejxDgdOBp4GRg+aG/ZGrFfenORTs6pRlhVs12BI5G9y2HMwn4ZNXs9xX321MHIyL5YqGI+pbAvvHXm4m39+4jLOpplDAnMvADeDJh/0mDZDkfOKcDIXdMKUaYVbOJwEPAGqlj6RMOPAFsXHGfnToYEUnLQgH1PYB9CEly1UbXHg3TPgsTJ4x+QDYL2Kbi/sAoX6djyjLC/BbhvqW0xgglAr9GKEIvIiUSR5GbUh9F7kTjfOHAbcDlwOUfgEcnwDNNrm/VfXlKllCCEWbcQnI7moptxyxg64r7g6kDEZHuMrMlgN2ojyLXanL5K8CVhCR5pbu/mH2yavYN4FO03xpxFrBPxf2GNr++K8owwvwBxa8P2y3jge8QSl1JArHp7hjCqH9+peg/4UrPxFHkBtRHkbsQ/s838nfiKBK4zZu3CTwe2AjYi5EvspwJfCpvyRIKPsKMC32uRqtiR2MWsIsWAHVHLFS9MaE6yjbA+oR77SsTClDXGu1CSJrzgFeB5wkLDKvAnfHXfRX3eb2MX/qLhfUcu1IfRa7X5PKpwFWEBPknH2HnkKrZWMJC2INpbaS5kNC395iK+9kjea9eKWzCjD+Z3wlshfZcjoYDt1bc35w6kCKI35dbA+8C3kn4Cb+W5CbT3vfqDMKHzeKEBHo5cAFwi5qFi5mtS30UuRvh+6SRe6mPIm/2Uf4AFr/fDyRUwtuMMKs5btBlMwmrbC8Gvllxv2s079lNRU6YOwF/ov05dKmbAexecb81dSD9KH5o7EQocHIg4QNjAot+cHTKfMLMAIQPvl8BV1XcF3bp/SRHLFTG2Zn6KLJZycsZhMpnlwNXuPuT3YqrarYJ8GlgB0JFoPnAFOB84BcV95e79d6dUuSEeRGwPyUs/9cFC4ELKu6HpA6kn1TNlgLeDxxHqKI0id5/Pzphr/gMQhnPvvhgkpExszWpJ8g9aD5QeJD6KPJGd29a+1XqCpkwq2YrA4+jxT6dNBtYs+L+UupA8q5qthxwAnAM4YeNvMxy1Ka+fgccn7du9tI6C2U+d6SeJDdvcvks4Drqo8hq9yMspqKukj2a8EElnbMQOIqwp1WGUDWbBHyOcL9mDM3vFaVQW/x2OPDeqtn/AadW3F9NGJO0yMxWBfYmJMg9CS0lG6kS6mZfDtzg7rOaXCstKtwIM94vepomlSikbU9U3NdOHUQeVc0OBn5KWNWalxHlcGYRal8fB/xUW1byxcIK6u2pjyK3bnL5XOAG6lOtD7v+PTuuiAlzY8LqWG0l6bxZwOYV90dTB5IXVbOVgDOAt9G/33MzgHuAwyruj6cOpszMbEXC3sV94+/NKpQ9QT1BXufu05tcKx1QxCnZA9BCn246gLB4pPSqZu8hJMvFab7hO+8mA9sB91XNPg+crtFmb5jZYoT9t/sSRpJvovHWovnAjdST5P0aRfZWEUeYdwNbpI6jwO6suG+bOoiUYrGBbxPulffrqLKRGYTWhB+qaPVkV2TbYRGS5IpNLn+WeoK8xt2ndj9CaaRQCbMavhGfo79/2s+7ucAKFfdpqQNJoRq6NlxEGJH1y73KkZpJ6Om7V8X9udTB9LtMO6zavcgdaTwLthC4mXqSvFujyPwo2pTsNoT7bEqY3TMLeCPwl9SB9FrVbB3CwoqVyN8K2E6aBGwC3Fs1273ifk/qgPqNhT24e1AfRa7W5PIXgSsICfJqd3+l+xFKO4qYMNWVpLsWJ/w9lyphVs02AP5GqO86JnE4vTCO0Nf3xqrZbhX3O1IHlGeD2mHtQ6i0M1w7rFqSvNNVhakvFC1hDldtX0ZvAvBWSrTwp2q2PmGabFnKtaDMgCWB66pmu1bc70wdUJ6Y2WRCbdZandZm7bCmEEp1DtkOS/pD0e5hPk+YLpPueqbivnrqIHqhGkqO3UlY3l+GkWUjU4G3VNz/mTqQVAa1w9qH0PVjuHZYtVHkbe4+v9sxSncVJmHGVjJzKNcIIJUFwLiibz2ohhHEP4AK5U6WEKYRXwQ2q5RodBTbYe1CfRTZtXZYkn9FmpJdiZAw++oe5qXAD4FnCGvL/4ew/DLn5hPubxW2rmysGHUusCZKlhCmZ5cBLq+avaXiPjd1QN2SaYe1D2HKtdlnyj+pr2j922jbYUm+FSlhrkroK9g3CfNGQoL8X8Ka8xfShjMScwh/34VNmMBJhCm3Iq+GHanxhIUtPwE+nDiWjontsHaiPorMRTssyZ+iJcy+miL8PvApwh4NgFUSxjJCTlgmf2/qQLqharYb8B8UryhBJ0wCDqmaXVNx/23qYNqVaYe1D2H7xxJNLn+Q+r3Iv6odVnkVKWGuSB/9eRYQ5nL2IBQhnQu8HfgSfTGkWYzm1Un6VtVsSUL7KyXLxiYDP6maXdcvLcJiO6w3Ux9FNmuHNRu4FrXDkkH6JsG0YDyNazDmzkuE+eMrCDfKxhKaJ/6IMLTJucUo7vadHxC2UkhziwNnVs32zOvir0HtsN4OLN3k8lo7rCuA69UOS4ZSpIQ5lj5KmLVR5JHU98EcBfwffZEwjWJ97wCvT8UeSh/dB0+oNmJ7H/CbxLEAr7fDehP1UaTaYUlHFelDb0HqAEZiacI9y77J8AM5ffb3PZxq6BpxOpqKHYnJwA+rZhdWEo3IRtgO60nqCfJatcOSkSpSwpxPKFzcNw4CziSUzRkH/JJwP7MPOOHvu0jeh4petGM88FngG714s9gOa2vqo0i1w5KeKVLCfJU+G/V8klAvaw9Cvbl9gU8kjahlCwihF0I1bCv4Ds1XSsrQJgP/XTX7ScW9K98Tg9ph7U3zH2xq7bCuILTDeq0bMUk5FSlhPkOfbSsZB5wcf/Whvlgd2aKjKW6rrl4YC/w3cFwnXiyWoNuC+ihS7bAkF4pUGm9dwr5AffB130xgw4r704OfsLAtY0vgIXfPfS2GeO/yKcI+XmnfdGClRvcyzWwJwhq3R9z9qiGeb6cd1hXAVWqHJb1SpBHms/TFFsb+5zBxJ1j8ObPF3H2hma0B7A8cQCglNh541szWd/eZSYMd3h5oG0mnHAL8evBJM1uZ0KljK8DNbDtCYfJNqI8ih2uHdTv1UaTaYUkShRlhAlTNpqIPv657jdfX688h1Flt9EG3kbs/1Juo2lM1uxrYnb5dsJwrD1TcN82esNB0+2pg/czpuwirWdUOS/pK0RLmLcD2qeMoutuB97Z26UPAA8AthA/Nv+fp/lI1jIwfRjMTnTITeGutb6aZbUaou7pyi1//D+qjSLXDktwp0pQswF8IzT7U4qtLFoA/CE8Q7hWvMMzlG8Zf7yRsO3Azmw48DdxHSKRXAv9MlEjfTZ9tRcq58YSfpe60UATiKpp3elE7LOkrRRthvgc4A1gqdSwFNhV4f8X9UjNbnbCVdLdRvqbH130KuJ+w6vEKd39wlK/bVNXsVsI+PumcJyvua5nZjcBbmlz3HeC/1A5L+knRRmJ3EHZrSPeMB+4EcPen3X13wqKNwfeYrgYuJHR6mDbMaxqh+NEbgIOB7wIPmNlCM5tiZveY2W/N7JNmtn7TVwLMbEsz+72Z/Wcsur2IqtnShEUo0lkrVMO/0a9ovs1rvJKl9JuijTCNMN2nLQLd82TFfZHFGrHQ9ZmEVacAb3L32zPPG7ANYQP69oSeg6vRXrGAhYS1R08QthLdRBiRPh7f6wZCASWA24DDBnecqJodSiiFp0VinTULOL7i/r24xWhrwp7KLQk/oGxGWCy2v7v/JV2YIiNXqIQJUDX7X+BYmt87kfbMB35QcR+yPnwsW7Yb8Kq739HKC8ZEuj2hm8SbCFsNVqW9mq4LCasrl2PgqtepwDHufk7tRNXsdOAjbbyHDO+aivvbh3rCzMYCC/K0+EukVUVMmLsAl6D7mN0wDdi74v63br9R7DyxI2HEuh2wEaFe/WiKoz8LfAW452E4c7HwmtJ5L1fch1sQJtJ3ipgwxxLqyqriT+dNA5atuCer2RvvSe5M2Du5LWEV7iqMYGvIGELz7qI29MyBucAaFe2dlIIp2qIfKmHv1gX0WSH2PjAfOC9lsgRw93nufq27H+/ue7n7uu4+kZAw9yL0OGxqfcInunTNLML9apFCKVzCjL5HWFggnTOP8PeaS+4+J9YovXWIp6cS9n1eCvx+i7B9RbpnImHFs0ihFK1wAQAV97uqZo8Cm6eOpUAeqLjflzqIFvyaULx7DGFD/CXA3zwzMq6afd5DIQXNynbHeGDN1EGIdFohE2b0LeAnqMdhJ0wj/H3mnrvfT9jG0Mxa1ifJ8n2EenG1/6grE2rN9YH1Ugcg0mlFnZIFOB9Ny3bKLOCi1EF00LqpAxiJkwibTe+lb5IlwOqpAxDptMImzIr7HOCLhD590r7pwBcq7kVaJ6MP8+5bKXUAIp1W2IQZnQmouezovAD8LnUQHdZX3Um+Tdg/czChWn2f6Ispb5GRKHTCjFtMPoNGme2aAXw69VaSLuibe/dfBK4j1P57L3A08HjSiFrWN3/HIq0qdMKMLiZsKVBvvZGZT70/YdH0TbWOrQir1iYA7yEUZr0+ZUCtU9s0KZzCJ8xKKGV0GNqrPlJzgMMrRSsFFfRtlwyjb7J90WYlRIqfMAEq7o8BxxGmGGV4M4DPVdyfSB1Il0xNHUArphI6os8hDPcvBm6n3oYl5/R/TQqnFAkz+gmhhGjfji56ZB5wF/Dz1IF0UV/8IDCP0Bh0O8KinzMJ38SVlEG17tnUAYh0WmluzFfcF1bN3k3YzrZc6nhyygl9Jg8q6FRsTZXwZ7XhLkxpefp682tf/FAiMhJlGmFScX+GUDZtZupYcmoWsFfF/bnUgXTZ08Ds1EEUmAOPpg5CpNNKlTABKu63AR9DSXOwmcCHK+5/Tx1IDzyJFoF10yw0wpQCKl3CBKi4nwWchhYm1MwAvl9xPzd1ID3yD8JODemO2pYkkUIpZcKMvgichZLmDOAM4MupA+mhZ9AIs5smEtYKiBRKaRNmXNRyLHA25U2aM4BfAp8p+CKfAeKf9Z7UcRTYkxV33SOWwiltwoTXPzg/DvyM8t3TnAn8iFD6rjTJMuN6VP2pW25OHYBIN5Q6YUJImhX3zwOfJixWKIOZwLEV9y+VNFkCXEF5/r17aSp9vRtGpDEr7+floqpmbwH+SCjfWcQ9qvMJH2j7Vdz7qPFF51XNxgBTgCVTx1Iwc4EVKu7TUgci0mmlH2FmVdxvArYEHqB49zVnECodbVH2ZAkQO7BcTt+UZu0bdypZSlEpYQ4S66e+ETiFMHXZ710XFhKmHk8Etq24P504njw5F9CHe+fMBH6TOgiRbtGUbBNVs42B8wjlOycnDqcd0wkVVw6puD+UOpi8qZotTmiQrWnZzpgNrFVxfzF1ICLdoBFmExX3BwmjzU8BL9M/07QzgBeBTwDbKFkOLW59+Dnak9kJC4HLlCylyDTCbFEcjXySMLW5GDApbURDmknoQ3gicFrFfU7ieHKvalYhNBhfPHUsfW4G8PaKu7aUSGEpYY5Q1Wxp4EOE/ppLEaZqU3a9cMKH1avA/wN+VXHvi36PeVE1uwHYmZx3L8m5R4ANS7xNSUpACbNNVTMDdiOU2NuV0Oe3l/fCphHqoV4L/A9wvT6s2lM12wm4knzOGvSD6cBRFffzUgci0k1KmB1QNVsG2As4DHg7Yb/jeDo7zTebcK9tLPAnwgrPKyvur5nZOoTVifcBH3P3fl/Z23NVs2uBXdB9/XY8CLyhou87KTglzA4xs5Xd/fmq2ThgO2BbwgfwdsCqhK0dCwkfyBMICXWwuYSR6kJgDCHhPgPcBvwVuAO4reI+oKSbmd0JbB0f3gDs7arlOSJVs82BWwmFw6V1M4ADK+7XpA5EpNuUMEfJzCYRCh2sBdzh7tsNvqZqNhlYg5A4V4u/r0hImuOAeYRk+SIhQT4bfz1ZcR+2xq2Z/RtYO3Pqr8CB7v5K23+wEqqanQe8k6F/mJFFLST8APfm1IGI9IIS5iiY2XjgKsJIsmaSu/e0RqmZPQRsMOj0g8A+7v7vXsbSz6pmKwMPo32ZrZoFbKVtS1IWul/TJgu1SM9mYLIE2DhBOEsPcW5j4EYz04d/iyruzwNH0z/7bVOaAXxFyVLKRAmzDRZWyP4UOHiIpzfrcSyLAcs3eHp16vc2pTXnEqa0VcygsYWEkfj3Ugci0ktKmO05BjiqwXOb9zIQwuhyTIPnziEsZJEWxa05H0SjzGZmAYfGAvYipaGE2Z5tmjzX0xEm4cNrqBWxf3X3w7RaduTi1Ox+lK+peCtmAodpKlbKSAmzPacS9kIOtWJqzV4GEhPiIYSaqJ/LxLSzhbJv0oZY4u0TKGlmzQC+WXG/NHUgIikoYbYhrjzdH3gtc7pWjq7n1U7c/VJ3/6i7f5+QyGs+2utYiqTi/ivgDJQ0IcxkXAN8LXUgIqloW0mbzGwX4Pr48ClgXcKWkqR1XM3sAODi+PBFYA131wKWNlXDauhzgX0ob+m8WYSiGW9XQX8pM40w27d/5viP7j4/dbKMLickcAjFEd6VMJa+Fxe2vJcwuirjSHMWcDewt5KllJ0SZvuyCTM393Q8lM07PXPqY6liKYpYivA9wGWUK2nOAm4Hdmul4pRI0WlKtg1mtiHwr/hwJrB8nlajmtnqwOPUt5ts4qEZtoxCNex5/R/g4xR/enYGcBGhC4lGliJohNmud2SOr8lTsgRw96cZOOo9OlUsRVJxX1hx/w/gIxR7pDkLOB44QslSpE4Jsz25nI4d5CeZ4w+ambpwdEjF/XeEkogvEbrLFMU8Qp/VAyruP1gvdTQiOaOEOUJmtiywc+bUZaliGcbVwGPxeFmGLuMnbaq43wFsSPiBqQijzRmEkoAbV9yvMbNHgQVmdpuZbZE4NpFcUMIcub2p3xu83d2fTRlMI7GJ9M8yp45JFUtRVdynVNwPJqyinUJ/jjbnAdOBY4E9Ku7PxIIXFcAI/VzvNrNLzGyHhHGKJKeEOXL9MB1b80vCByLAjhopdEesfLM+8GtCmcL5zb8iFxYS7lVeSBhVnlmprwB8Mj6ftT9ws5ldY2Yr9TBOkdxQwhwBMxtH2MBek+uE6aEm6oWZUxpldknF/ZWK+zHApoTCEbNYNOnkgROmkK8Dtqu4v7cSFonVL3CfB9zV4Ot3B77c3RBF8kkJc2TeAiwTj58ibOjOu+zinyPMbIlkkZRAxf2xivtBwA7ABYQRZx7ucc6Ov/5EqNizR8X9vibXN+tyc29HIxPpE0qYI5PdTvJH749NrDdQ3zO6JOF+m3RZxf2eivshhGL8JwMvEFag9nK6dgGhxvGrwLeB9Svu+1bc/9bC197R4PxvCYX+RUpHhQtGwMz+RVgZCbCfu1+eMp5WmdnngO/Gh3e6+7Yp4ymjWPTgTYSKQYcCKxCmbCd3+K1mEaZdpwHnx183VcI0a8vMbEuGnpadA+zo7n8fbaAi/UYJs0V5r+7TjJktBzwDTIintvOwLUISqZqtB+xBmOZ/M7A29WQ3FphI4xkgj9fOI6xknQQ8TZhG/Svh/uT9lVH857aQ4P8S47sBWBnYOD79b2Abd3+l3dcX6UdKmC0ysy8QprUALnb3A1PGM1Jm9mvgyPjw5+6u1l85UjWbQEhIqwOrAasStnYsBYwjJM+5hC0gjxES5LOEH4Qe6EatVwudWtYiJMj1CdO0S8WnrwDeEbcviZSCEmaLzOx6QnUXgI+4+y8ShjNiZvZmoHbvaiawmru/1uRLRAYwswOBP2ROneTuX00Vj0ivadFPC2J1n50yp/Ja3aeZW6ivbpwEvD9hLNKH3P0i4JuZUyea2T6NrhcpGiXM1gyu7vNcymDaEVf0ZreYfMzMLFU80rdOAK6Nxwb8xszWTRiPSM8oYbamn6r7NHM2oWYowGaExSYiLYv9Vg8j3EOFUKf4fDNbPF1UIr2hhDmMfqvu04y7TyXso6tRc2kZMXd/ATiIetnFrYEfpYtIpDeUMIeXre7zJP1R3aeZn2aODzGz5ZNFIn3L3W8BPpc5dZSZfSRVPCK9oIQ5vOx0bL9U92nI3e+kXsVlAvCBhOFIfzuNMM1f8yMz2yZVMCLdpoQ5vKLcv8zKLv45Rot/pB3xh8djqK++ngBcoFkLKSrtw2zCzDYCHowP+6q6TzNmNpmw4b22CX03d78uYUjSx8xsAwYWNfgToajBgnRRiXSeRpjNZYutX12EZAng7jOAszKntPhH2ubuD1OvIgVhG9YJicIR6RolzOaKOB1bk138824zWzlZJNL33P1iFi1qsG+qeES6QQmzgYJU92nI3e8FbooPxwIfShiOFEO2qAHA2SpqIEWihNnYPtSr+9zWj9V9WjB48Y++H6RtmaIGT8VTyxIWAU1MF5VI5+gDsrEiT8fWnA/UWjStA+yZLhQpgiGKGrwRFTWQglDCHEKRqvs0Excx/SpzSot/ZNTc/Vbgs5lTH1ZRAykCbSsZgpm9jfq9mCeBtfu9YEEjg7bOLADWcfenmnyJyLDi3t4zqXfFmQu8RY3LpZ9phDm07HaSvq/u04y7/4v6DwdjgKMShiMFMURRg/GEIu0qaiB9SwlzaGW4f5mV3WLyUTMbmywSKQx3nwm8B5gaT61NaAc2pvFXieSXEuYgcYpyg/hwBlCGCjgXAS/E49WB/RLGIgUyRFGDvYCvJApHZFSUMBeVHV0WprpPM+4+F/hF5tQxqWKR4olFDb6ROfUVM9MPZdJ3lDAXVbbp2JrTgdq92r214Vw67ATgz5nHZ5tZJVUwIu1Qwswws+UI/S9rLk8VS6+5+2PAlfGhAR9NGI4UTCzEni1qsAwqaiB9RglzoL0pfnWfZrKVf44ys/HJIpHCcfcXGVjUYCvgNLWXk36hhDlQWadjay4Dno7HKwHvTBiLFFAsavCZzKkPotkM6RNKmFFZqvs0E2uBnp45pco/0g0/YWB7uR+a2XapghFplSr9RGWq7tOMma0BPE79h6mNY3EDkY4xs0nAzcAW8dQTwDbu/lK6qESa0wizbsB0bBmTJUAsi5cdXR+dKhYprkxRg9fiqbVQUQPJOSVMXq97Wfb7l1nZxT8fNLPFk0UiheXujzCwqMGewImJwhEZlhJmsBGwfjyeAVyfLpRcuAr4dzxejrCyUaTj3P0SBhY1OMHM3tHoepGUlDCD7H/QUlT3acbdFwI/y5zS4h/pphOAazKPz1JRA8kjJcxA07GLOgOYH4/fYmabpQxGiisWNXgfYbEdqKiB5FTpE+ag6j5O2ItYeu7+PHBh5pTqy0rXxKIGB6OiBpJjpU+YhL2X2eo+z6cMJmeyi3+ONLPJySKRwlNRA8k7JUxNxzZzPfBQPF4KeG+6UKQkfgKcmXelZDkAACAASURBVHmsogaSG6VOmLG6z96ZU39MFUsexb2o2ebSWvwjXRW/5z4O3BNPjQfON7MV0kUlEpQ6YQI7A0vH4yep/yeVul8Dc+Lxtma2TcpgpPhiUYN3o6IGkjNlT5jZ7SSlre7TjLu/DJyXOaXFP9J17v4ocETm1J7ASWmiEQlKmzBV3WdEsot/3mdmSze8UqRD3P1S4OuZU19WUQNJqbQJE1X3GYmbgX/G48nA4QljkXL5CipqIDlR5oSZHV1eVfbqPs3EqersKPNj2h8nvRCLGhyGihpIDihhBpqOHd7ZwMx4vDmwQ8JYpERiy6+DgLnxlIoaSBKlTJhmtjwDq/tcnjCcvuDurwG/zZzSFhPpGXe/DRU1kMRKmTAJey9rf3ZV92lddk/mobGsoEiv/BQVNZCEypowNR3bBne/A7gzPpzAwF6GIl2VKWpwdzw1nnA/U0UNpCdKlzCHqO6jhDkyWvwjycSiBu+hXtRgTeC3KmogvVC6hMnA6j5PAPcmjKUfnQNMjccbAbskjEVKKBY1eH/m1NtRUQPpgTImzAHTsaruMzLuPp2wYrZGi3+k59z9j8CpmVMqaiBdZ2XKF3H68GFgvXhqb3e/MmFIfcnMtqB+H2kesIa7v5AwJCmhOA17BWGECfAqsI27V9NFJUVWtoS5CXB/fDgDWEEFC9pjZjcBO8aHX3L3b6WMR8opLvi5k1CgHcIPcjs+CmMJi9I+AawCTARmAS8ApwG/rri/2vuIpZ+VbUo2O2Wj6j6jk138c4yZle17SXJgcFGDVWHLX8LdDs8B3wQ2JlQHmhB/35BQn/bZqtmZVbO100Qu/ahsH3LaTtI55wNT4vG61KfFRHrK3W8HPv0GQkPbHWF9CyPKyQ2+ZBKwOPA+4K6q9nJKi0qTMIeo7nNZwnD6nrvPAn6VOaW2X5LMg3DT72H+UoS52BaNIYw6r62abdWl0KRASpMwgX2o/3lv1SKVjshW/jnAzFZPFomUVtVsqXFw7XgY0+YH2mTgmqrZsh0NTAqnTAlT07Ed5u7/Aq6LD8cARyUMR8rrA8BkgyGLaHye0ClgS2B34NxFLzHCFO6HuhahFEIpVsma2XjgRWCpeGoLd1fBgg4ws0MJxQwAngLWdff5CUOSEqmGrWKPEyr+DOkhYG3Cqp9HCTcuf05ouTPIM8CaFfeFXQhVCqAsI8ydqSfLJ6g3Q5bR+wPhhxGANQhT3yK9sgvQdCp1Q0KyhDCUNMKHwBCWBPboXGhSNGVJmNntJKru00HuPhf4ReaUKv9IL72bxqthX/cV4A2EpdwrAbsOfdkShDq1IkMqfMKM1X10/7K7TiesPAbYx8zWSReKlMyqNLh3mXUycA/h/uWehDYnQzBgtc6FJkVT+IRJ2LhcK4U3Hbg+XSjFFEuRXRUfGmrsKz1gZotNhRVbvX4MsC2hosFvGl+2+KgDk8IqQ8LMji6vcvc5ySIptmzln6NiGzWRjjGzFc3sHWZ2ipldBbxyVRvdchbQ8B4m1O/HiyxiBHt8+5amY3vjj4RVhqsBKwPvJFQDEhkxM5sAvBHYPvOrMvi6+4B9CaV7hvIScDOwG2HoeBPhQ+B7Q18+E/j7qAKXQiv0tpJY3ecFwkjagVVUsKB7zOwk4MT48M/urhWHMqy4zmA9QlLcIf6+FTDsLMXS8NItsNz4BrNlLwOfBB4gfACsRti0+d6hX242YVvJSyP+Q0gpFD1hHgGcGR/e4u5vThlP0ZnZGoQ9cbUPrw3d/eGEIUkOmdlywJuojxzfBCzfwpfOJYwAb838euxROIuQA8eMIqyFwAUV90NG8RpScEWfkh2wnSRZFCXh7k+Z2R+BA+Kpo4HjEoYkicWiIVswcGp1wxa//BFCUrwl/n533MY0QNXsO4TtJRNHEeps4Duj+HopgcKOMFXdJw0z2we4PD58mdBcWm3USiBOra5NPTHuAGxNvW5AM1MYOHK8zd1fbvW9q2anAp+hhT2ZQ5gB/Ljirh/upKkiJ8zdgWviw8cJJduK+YfNETMbQxgZrBNPvd/dm6zil35lZksD2zFw9LhSC186H7iLgQny4dH8/4wl8k4nTM2OJGnOAC4EPqiSeDKcIk/JDlgdq2TZG+6+wMx+RmjSC6HyjxJmnzOzscBmDEyOm9BC0QDg39QT4y3APzo961Bx96rZR4EqcALhnmSjxbMAswj32v8fcHJFnw/SgkKOMOPU0CPUl6Hv5e5XNfkS6SAzWwV4kvoPZJu5+30JQ5IRigu4sslxW5onoJqpwG0MnFp9vltxDqUaVsd/mNCoZDJhgewYQhKFkCy/B/yi4q59l9KyoibMTQlbtCBU91lBBQt6y8zOAw6OD3/o7p9OGY80ZmZLANtQ39KxPa2ViFsA3MvAqdUHPSdTm1WzxYAdgdUJaxmmEvYK/63iviBlbNKfipow/xP4Znx4oburoHKPmdluwJ/jw9eA1d19RsKQhNfvMW/CwNHjZrRW9espBq5a/bv+TaVMinoPU9tJ0ruO0IpwQ2Bp4FDgjKQRlVCcHs8mx+0IbayGMwO4nczo0d2f6VacIv2gcCNMVffJDzP7AvDt+PA2d98+ZTxFZ2YTCds4shVz1mrhS51wCyM7tXqfa9pSZIAiJsxsdZ+b3X3HlPGUmZmtQJjGq+3D28bdX6/VWTVbnLCQZAxh4/h0rVZsjYX7cxsycPS4Ba3NGj3HwFWrd7j7tC6FKlIYRZySVbH1nHD3l8zs98D7AXaG/66a3Ubo37sNoRzafMIIZywwt2p2H/BX4C/AFZUhKruUUfzhI5sc3wQs08KXzgbupH7f8VbgSW2zEhm5Qo0wY3Wfl6jfo9nc3f+ZMKTSW8PsbdvBtccAawKLw1xr2L/3dQsJq5sdOA04reL+VJdDzY3YqWMrBq5aXaRTRwMPMnBq9V53n9eNOEXKpmgJcw/g6vhQ1X0Sq5rt5XD2LFhuUvu9V2sb3H8AfKVoI85BnTpqv7Zi+B8qIPxwmJ1avd3dX+1SqCKlV7QpWVX3yYFqKJn2f8C7DCa1stu9icXj758CDq6aHVzJ3AftN2a2LAM7dWzPKDp16HtcpHcKM8KMP6k/CqwbT6m6TwJVs7WAG4EVqSe7TnFClZYPVdzP6/Brd5yZjSMsxMlOrY60U0ft190qviGSVpESpqr7JBaT5e3AcnR39mIm8LGK+1ldfI8RGaJTx/aELR6t/NAwhXo5uVsYYacOEemNIk3JZqdjr1Sy7K1qmGq8iTC9OJpGvq2YBPy0avZSxf2KLr/XkMxsKRbt1LFyC1/a8U4dItIbRU2Y2k7Sez8jTMN2O1nWTAR+WzXboOL+UjffKHbqeAMDp1bb6dRxK6FTx6zuRCoi3VSIKdm4R+156tV9VnZ1IeiZqtn+wDm01s2ik+YQ9mq+q9lFcbp0sVYr14yyU0etnFxtarWnnTpEpHuKMsLcl/q2hVuULHunGjpd/JreJ0sIFYT2rJrtX3EfclbBzHYBfgEsYWZ7u/tdg56vderIlpNrpVPHQuAectqpQ0Q6rygJU9Ox6byf1vYMdssk4GQG/bvHUeUnCH0Pa9/nXzCzbzG6Th21X3eqU4dIufT9lKyq+6RTXXQrTyqzgO0r7vcCWKhR+2Pgg4OuW0hryXEGcAeZVlbq1CEiRRhhvpV6svw39a0l0n1vISz0SW0c8FngKKtvbVlpiOuGSpZDdeq4393ndylWEelTRUiYqu6Tzv60ee9y80GPZwOHAye1F8dY4IB4/DOGTpY1UwiF3WvJ8Q53n9re24pImfR1woz3qXT/Mp230maN2HszxzMJNxP3HV0sS1VDL9Tbgb2aXPd9dz95dG8lImXU1wkT2JT6/bPpwA0JYymVeP9y8ECxLVcQqh1sN7qXmUXot3mCmd0MvIP63snxg64TERmxvkqY8UN6MrAssHBZePeU+tNXesE6WaQSN+p/mlC55vfufscQl61Mh4oUXAi8i9aqADQxkZDAr3L3y4HLAcxsIrAjsAth5vd/R/c2IlJWfZEwY/eLI4HjgFUJnRu4FSY9BvwUuAH+lC7CwtkX+E48/qKZ3QH8BDgns5ViCUKZt1F5hlBE9ZujfaGw8Gfy4JOxqs6f4y8Rkba126OwJ6pmk6tmPweeBb5B6EE8lrDQZNIYYH3CQpFb4ftVs29Uw+hI2mBmi8X2U5sOempb4OfAK2Z2jZlNIvw7jHqB1YXxxdcc7QuFAeq40b+MiMjQcptcqmYrAdcSmus27fgwuf7bp4HtY+WXUm8qN7PFCFPXKxBuEbby+3I0n2YdD+wOnEb4OWXUP3D9AfjYaF8kWIjuT4pIF+UyYcZyazcQkuVIRg2TgDcDl1TN9qoUZC9dvKc4XPIbfG45Rn1bsKGHgRcIpenadiehAPA+nYgoLLZVcQER6ZpcJkzgDGAd2ptiW5ywMvIk4MudC6kzYlPh5Wl91Lc8IVn2yjRCEfHVh3juVeDr7v7/AKpmzwBrtftGFxL2fyzR7gsM5IQcLCLSFbkrjVc1W4VQsWfI0curwJeAGwlZ5DjqO9YHmQasWOliX0wzm0Dz5DfUuaW6Fc8QXiOUDXy5xd9fcfc5ZrZcPFczH/gucIq7T6+drJqdBxzcgz9HK+YBk4oyqyAi+ZPHEeYxNFlMciJh2Hkr8ABwFLAxsOHQlx8E/KaVN43bD7LJr5XRX4cGRy2ZwtBJrlECfMXd57XzRu7+ipmdBRwBXA18xt0fGOLSa4H9SNOpZLAHlCxFpJtyNcKMK1yfJ9x/W8RMYGvCRvdatYIvEDYEfnGI62fBI5vBsbSW/Hr1ob+QevJrdfQ3JUVtUzOb3KwjRzWMRJ9mmEVZPTAd+EzF/YzEcYhIgeVthLkuTVpFPUZYlpltjbExYR/fUMbD+uPgqraGWa1ZQEhorY76XgJe7ZeeicO1r6q4v1I1u4gwLduRIgZtMkIDaxGRrslbwlyOkISGNJN6W5KaJQm9mIYyLz7/SmvvPY/W7/XVfp/aL8mvi75DuI2calp2LvCrivvMRO8vIiWRt4TZdF/fJMLcW9Z0hijvEhn4BLiJUPhguOQ3TZ1ORq7ifkfV7ApC7dZRbTNp0yzabnIiItK6vCXMV2iSNNclDD8foz4t+wCwQYPrJ4DfCHt0c6WsAHA08Ai9T5gzgA9X3F/q8fuKSAnlrTTeYzRZITsJ2BP4PmF69g7gGuDAxq9XVbLsvor7K8AHCf8svTIb+HPF/cIevqeIlFiuEmYldBv5CdAwyZ1M+KR8E/BZ4BQabimZDnyr0zHK0CrulxBqqPeiJOEcQrWhw3vwXiIiQM62lQBUzdYGHmT0WxVmAiuVvaZsL8X2a6cAn6N7i4BmE5LlLhX3KcNdLCLSKbkaYQJU3B8Hrie28GrTLOAMJcveqrh7xf3LhG2xswh7TjtpBqHG8FuULEWk13I3wgSomi0P3EXofTnS/X1zgX8SPlRndzo2aU3VbCPgPEIB/UYLmVs1lzANewxwTiWP37QiUni5G2ECVNxfBnYidJ9oeaQ5L9Q8vR94u5JlWhX3fxEKM/0X8Byhtu9IzSCMVM8BNqy4/07JUkRSyeUIsyaWXvs1sAehmsuQ2xZmxSevgPlXwbpXuj/VuyhlONXQm/PthKnanQg/BDmhFm+2BdlswkhyMvAE8APg1xX313oasIjIEHKdMGuqZmsQasIeS9g7Op/wQTvWYdqPgF/Byq+Gy7/t7seliVQaMbPFgTmPhlmNjYFtgM2BZQjT7jOARwktuu6quE+LXVOOAn7j7up1KSJJ9UXCrKmGXpJrEjp71YqYP7Fe2Ip5QbxsNrCePmDzwczGEKotbQ885O4bjeBrXwBWJIxI3+ju93cnShGR4fVVwmzEwnaG2wmjFoAfu/uxCUMSXk+WvwEOzZxevZUfZmKv0ex96NeA3dz9752NUkSkNblc9DNSsQbslzOnPmpm6za6XrovJstfMDBZArQ6wlx90OOlgevMbOfRxiYi0o5CJMzoSuDGeDyW0GtaErCwyOd04ANDPN2o9O9gawxxbingSjPbvd3YRETaVZiEGUeZx2dOHWFmm6SKp+SOBT7U4LkGlQwXsWaD8xOB7404IhGRUSpMwgRw978AV8WHiwFfTRhOmW3a5LlWE+ZQI8waLf4RkZ4rVMKMsvcyDzazNyaLpLxOAc5n6NJ4g+9NNtKoVdhxwBHtBCUiMhqFS5jufjtwUebUKaliKSt3f5YwJZut0lRb8XpZiy/zW+AfhDKHj2TOT3D3eaMOUkRkhAqxrWQwM9sMuId6FZkd3f3mhCGVjpkdApwbH/4T2AFYDnjKR/hNZ2bvI2xPAXgI2HikryEiMlqFG2ECuPs/gd9lTp2aKpYSOyhzfL67z3D3J9tMdBdRr0W7IaEIgohITxUyYUYnAgvi8du0FaF3zGwSsF/m1PmjeT13nwn8PnNqqO0qIiJdVdiE6e6PAL/MnDo1VgSS7tuLegPpB+nMqtZfZ47fGysBiYj0TGETZnQK9YUn2wPvSBhLmQyeju3E/cYbgcfi8TLA/h14TRGRlhU6Ybr7E8CPM6e+FqvQSJfEriTZZHZBo2tHwt0XAmdlTh3ZidcVEWlVIVfJZpnZykCV+hThYe5+TsKQCs3M9gcuiQ8fBTbo1IpWM1uP+haT+YRC7i904rVFRIZT+NGWuz9PaERc81UzG5sqnhLoxnQsAO7+KKFVGIR6we/r1GuLiAyn8Akz+n+E9lAQtiVoOq8LzGw88M7MqVGtjm0gu/hH/44i0jOlSJjuPgX4dubUiVpl2RW7E9pwATwO3NmF9zgPmBOP32hmm3fhPUREFlGKhBn9AHgpHq8FfDRhLEXVtenYGnd/jYGlD7UnU0R6ojQJ092nAd/InDo+brCXDjCzccCBmVPdmI6tyU7LHq570iLSC6VJmNGPgWfi8SrAJxPGUjS7EmrFAjwF3NbF97oaeC4erwK8vYvvJSIClCxhuvssBnYv+U8zW7rR9TIi78kcXxD3TXaFu8+nXowdNC0rIj1QqoQZnUG9YsxywOcSxlIIZjYGeHfmVDenY2uy07IHmtkyPXhPESmx0iVMd58LnJQ59XkzWz5ROEWxM7BiPH4O+Fu339Dd7yX0y4TQbPrgbr+niJRb6RJm9BvggXi8JPCfCWMpguzq2Au7OR07yJmZY03LikhXFb40XiNmdhD1llGzgPXc/dmEIfWlWJv3acLiG4Dd3P26Hr33SvG9a6tk14/VgEREOq6sI0yAC6lP6U0Ejk8YSz/bkXqyfBH4a6/eONaRvSJzSpV/RKRrSpsw47RhNkkebWbrpImmr2WnY/8QV7D2UnZa9kh1oxGRbin7h8ufqBfzHgecmDCWvhOTU3Y7SS9Wxw52KTAlHq8D7JQgBhEpgVInzFi6LTvKPNLMNk4VTx96E7BGPH4FuL7XAbj7HCDbrk2Lf0SkK0qdMAHc/QZC5RgIfx9fTRhOv8lOx17k7vMSxZGdlj1YJQ9FpBtKnzCjL2eODzGzrZJF0ifMzEg/HVtzK/BQPF6SgTVtRUQ6QgkTcPfbgIszp05pdK28bmvCPUMIvUb/nCqQOLWerfyjaVkR6TglzLoTgNqm1HeY2Q4pg+kD2enYS2IFpZTOpv7vt4eZrZ4yGBEpHiXMKJZayy4eOTVVLHkXp2MH9L5MFUuNuz8B1AomLAYcnjAcESkgJcyBTgQWxOPdzGy3lMHk2BbA+vF4OnBVwliyBpTKi4ldRKQjlDAz3P1h4FeZU6fqQ3dI2dHlpe4+O1kkA10AzIjHmxLus4qIdIQS5qJOBmr343YA9ksYS+7EHyCynUGST8fWuPt0QtKs0eIfEekYJcxB4r2wn2ZOfU3l1gbYFNgoHs8kVEvKk+y07PvMbHyySESkUJQIhvZ1QgcTgC0ZOAVZdtm/i8vcfWaySIZ2HfBkPF4e2CdhLCJSIEqYQ3D354D/zZw62czGNrq+ZHK1OnawWFT/rMwpTcuKSEeUth/mcMxsOeAxYKl46sPu/suEISVnZhsBD8aHs4EV433DXBkU5zxgVXd/OWFIIlIAGmE24O6vAN/OnDrRzCakiicnsqXwrshjsgRw938RyuVB6ELz3oThiEhBKGE2933gpXi8NvCRhLHkQXY69oKGV+WDSuWJSEdpSnYYZvYF6iPN54D1crjQpevMbD3gkfhwLrCSu7+WMKSm4pT6s0Btleym7v5AwpBEpM9phDm804Bn4vEqwCcSxpJSdjr2qjwnS3h9Sv3SzKkjU8UiIsWghDkMd58FfC1z6ktmtlSj6wss16tjG8hOyx5hZmOSRSIifU8JszW/AP4dj5cDPpculN4zs7WB7eLD+cAlCcMZiT8BL8bj1YG3JYxFRPqcEmYLYuuqkzKnvmBmyycKJ4XsdOw17j4lWSQj4O7zgN9mTmnxj4i0TQmzdWdT39u3JPDFhLH0Wj9Ox9Zkp2XfbWZLJotERPqaEmaL3H0B8JXMqU+Z2aqp4ukVM1sDeHN8uAC4OGE47bgL+Gc8nsTA0bKISMuUMEfmAsIHMMBE4L8TxtIr78ocX+fuLzW8Moc87JvSnkwRGTUlzBGIdUq/nDl1TFwQU2T9PB1b8xtgYTze1czWSReKiPQrJcyRuxy4OR6PY+A0baGY2SrAzvGhAxclDKdt7v4scFXm1PtTxSIi/UsJc4TiFF92KvYDsdh3Eb0LsHj8F3d/PmUwo5Sdlj0yNsIWEWmZEmYb3P164Jr4cAzw1XTRdFURpmNrLgamxuMNqC9kEhFpiRJm+47PHB9qZlsmi6QLzGxFYNfMqQsThdIRsWLTeZlTKpUnIiOihNkmd7+NgRVvTkkVS5ccSP374yZ3f6bZxX0iOy17qJktniwSEek7SpijcwJhMQzA/ma2Q8pgOqxI07E1NwHVeLwMsH/CWESkzyhhjoK73wOcmzn1tUbX9pNY9m/3zKm+no6tiQu2zsyc0p5MEWmZEubonUiogAOwu5kVocD3AYTFTAC3uvsTKYPpsLMyx3ub2crJIhGRvqKEOUru/hAD742dWoAtC9nycRcki6IL3L0K/DU+HAO8L2E4ItJHlDA742RgXjx+M7BvwlhGxcyWBvbMnCrK/csslcoTkRFTwuwAd38c+Gnm1NfMrF//bvcnVDACuNPdH0sZTJf8Hpgdj7cs2pYgEemOfv1Qz6NTgVnxeCv6tytGdnVsoaZja9x9KvCHzCntyRSRYSlhdoi7Pwf8MHPqZDMb0+j6PIq9IvfOnCpkwoyy07KHm9nYZJGISF9Qwuys/6Fefm1j+q/I937AhHh8T1zQVFTXAM/G45WBvRLGIiJ9QAmzg9z9ZeC7mVMnmdn4VPG0oYjFCoYUG4KfnTmlaVkRacrCXm7pFDNbilBNZvl46lh3/3HCkFpiZpOBFwmNsQE2dfcHEobUdWb2BuCf8eEcYFV3n5IwJBHJMY0wOywuKPlm5tQJZjYpVTwjsA/1ZHl/0ZMlgLvfB9wZH04ADkkYjojknBJmd/wf9ftjqwLHJoylVaWZjh0kWypP07Ii0pCmZLvEzI4lJE6Al4FKHH3mjplNJEzHTo6ntnD3exOG1DOxjdkzQG2V7Ibu/nDCkEQkpzTC7J6fA/+Ox8sDn00XyrD2pJ4sH6J+X6/w3P1F4PLMqSNSxSIi+aaE2SXuPhf4aubUF8xsuVTxDGPAdKyXb9ohuyfzyD6u0iQiXaQPhu46G/hXPF4K+GLCWIZkZhMI3UlqilysoJHLgFfi8drAWxPGIiI5pYTZRe4+H/hK5tSnzWyVVPE0sAchmQM8BvwjYSxJuPsc4JzMKRVkF5FFKGF23/nA3fF4IvDfCWMZStmnY2uy07IHxX2pIiKvU8LsMndfCHw5c+oYM1srVTxZsQrRgZlTZdpOMtjtwIPxeAngXQljEZEcUsLsjcuAW+LxeAZO06b0NmCZePwkIWmUUhxZa0+miDSkhNkD8cP4+MypD5rZBqniydB07EBnAbW/gz3MbI2UwYhIvihh9oi7XwtcGx+OYeCWk56L7ayy045lno4FwN2fAv4cHxr9121GRLpICbO3sqPM95rZFskigV2oF4h/hvqUcdkNmJY1M0sWiYjkihJmD7n7LcCl8aEBpyQM5z2Z4wvi4iSBC4Hp8XgTYNuEsYhIjihh9t4JmeMDzGz7XgdgZmOAd2dOlX46tsbdZzDw70N7MkUEUMLsOXe/Gzg3c+prCcJ4C7ByPH4euClBDHmWnZY9rM+agItIlyhhpnEiUJsC3cPMdu3x+2dXx/7B3Rf0+P3z7gbg8Xi8HLBfwlhEJCeUMBNw938xsLLMqb1aXBILi2fvX2o6dpB4P/eszClNy4qI+mGmYmbrEFppjYun9nP3yxt+Qefed0fqU7AvA6vEmreSYWYbUi+cPx9Y1d1fShiSiCSmEWYi7v5v4GeZU1/rUVupwdOxSpZDcPeHgJvjw7HAYQnDEZEcUMJM61RgVjx+IwNXrnZcnPYdUN2nm+9XANlpc03LipScEmZC7v4s8KPMqZPjlo9u2Q5YMx5PoV55SIZ2HjAnHm9jZm9IGYyIpKWEmd63gGnxeBPg8C6+V3Z0ebG7z+vie/U9d58CXJI5pYLsIiWmhJmYu78MfDdz6qRu7PvTdGzbsnsy39/lGQARyTElzHz4LvBKPF4X+HAX3mOr+NoAU4FruvAeRXQl8EI8Xg3YPWEsIpKQEmYOuPtUwtRszQlmNrHDb5MdXV7i7nMaXimvi9PWv8mc0uIfkZJSwsyPHwHPxePVgI936oXjdOzBmVMXdOq1SyI7LfsuM1sqWSQikowSZk64+0wG1pX9LzNbskMvvxlQa1g9gzDNKC1y97uAe+LDiQwcrYtISShh5svp1GuYrgB8tkOvm/2A/6O7z2p4pTSiPZkiJaeEmSPuPhf4aubUf5jZch14aa2OHb3fArUi9W81s3WbXSwixaOEmT9nUa9huhRwJaOUJwAADGxJREFU3GhezMw2BTaND2cBV4zm9crK3Z9j4FT2EaliEZE0lDBzJtZ2PTFz6tNmtpuZfdPM2qlnmu1McnlskCztyU7LHtmrDjMikg/qVpJDsQj734Eth3h6A3d/ZASvdTewRXx4mLuf04EQS8nMFiesZF46ntrJ3dV8W6QkNMLMpxWBFxs8V2n1RcxsA+rJcg5w2SjjKjV3nw2cmzmlxT8iJaKEmU9/APZo8NzYEbxOdjr2T+4+reGV0qrstOyhXSgwISI5pYSZT0s3eW4kCVOrYzvvZqA2Jb4UcEDCWESkh5Qw8+lw4LEGz41r5QXitodt4sN5wKUdiKv0PNz0z1b+0bSsSEkoYeZQrCzzRuB3Qzy9aosvk52OvdrdXxt1YFJzVuZ4LzNr9d9ERPqYEmZOxQR3OPBB6hvmAea2+BKaju0Sd/83cEN8uBjwvnTRiEivaFtJHzCzbYBfAk8ABzwKTphufSuwC2El7ETC+SmvwT3fgEP/AjwP84GV3f2VoV9d2mFmHwLOiA/vBbZ0/WcSKTQlzD5SDY2ljwT+kzA1OxaYMNS1M4AxwAPw0hvh4Ir79b2Kswxix5LnCD+oALwxTqWLSEFpSrZPVMMo80Hg+8D6wGQaJEvik4sDW8HywB+rZhdUO1OXVni9h+mFmVNa/CNScEqYfaBq9iXgr8A6hFzYMgOLX7Mf8EjVbMeOB1he2T2Zh5tZSyuYRaQ/KWHmXNXs68AJhKm/0dQunQAsC1xdNdulE7EJ1wJPx+MVgb0SxiIiXaaEmWNVs2OBzwCTOviykwhTtJt08DVLyd0XAGdnTmlaVqTAtOgnp6pm6wN309lkWbMQuB/YqhI+9KVNsX3affHhXGBVrUgWKSaNMHOoGtpGnUuTRT2jtBiwLvAfXXr90nD3+4E74sPxwCEJwxGRLlLCzKddgA0JO0O6ZTJwfNWsW0m5TLKLfzQtK1JQSpj5dBwtroY9E3gnsEn8ojYcNPwlMoxzCPV6AXYws41SBiMi3aGEmTNVs6UJrb1aWhG7MvAJ2s56SxIWFckouPtLDOw1ekSqWESke5Qw82drYFarF+8F7Aks0/77bV410/fB6GWnZY8w/Z2KFI7+U+fPttTLrfXCAkLlIBmdy4GX4/FawK7pQhGRblDCzJ/NCaste2U+sEEP36+Q3H0uA9uxHZkqFhHpDiXM/Onl6BLCvVKtlO2M7LTsQWa2RLJIRKTjlDDzp9V+l53i1Fd4yujcSSgIAWGV87sTxiIiHaaEmT+PEqZJWzIfmEMo3bMwHrf8xeHacf+GlwafN7PFzWx7M/uwmW0/gpcsrdgP88zMKU3LihSISuPlTNVsf+AsYOlWrv8B8L+Dzn2a1veKzAM2hznz4FbC9Ox8QpH2zQj9NonntoxVbaQJM1ud0Oh7McLofW13fzJtVCLSCUqYOVM1WxV4jB7dV3yUsC2lBbu6+w1dDaYgzOxK6n+tx7v711PGIyKdoSnZnKm4P0v9PlhXzYX5l8LzLV5+mpl908zW7mpQxTBgWtZCbWAR6XMaYeZQ1exQ4HRCJZ5umg2svl7oiPIZ4HO0Vr92OvB34DzgV+4+o3sh9h8zm0T4QaS2SnYHd781YUgi0gEaYebTH4BuJ6HZwG8r7q+4+1Pufhyh4PvDLXztEsBbgR8B083seTO7wMz212gK3H0m8PvMKS3+ESkAjTBzqmq2K6E+aTf6YUJYGbtexX1q9qSZrQhcCmRXxn4P2AHYsoV4FhLuwV4JnObu9w1zfSGZ2S7A9fHhFEKfzDnpIhKR0VLCzLGq2U+B99P5pDkTeFfF/aqhnoxTir8m1HS/BtjL3RfG59YHPg7sSyipN3ao18iYTWiw/AfgJ+7+8jDXF0KsJfsosE48dZC7X5AuIhEZLSXMHKuajQP+RBjddSppzgS+VHH/4XAXmtnKwAve4JskTr++DfgIoYfnai28/xTgNuC3wO/cvbBFE8zsZOCE+PASd39nynhEZHSUMHMuNni+gFDMu6UemQ04YbT3hYr7jzsQ2iIsxHo4cBiwHcPvJXXgaeA64HR3/2s34koljsZr94TnA6u5+4sJQxKRUVDC7APVMJL7KPBdwv7M4aZBB5sJvAgcXHG/vcPhNRRHqB+n3uN6uL2l84CHCPduT3P3x7sbYfeZ2Y3AW+LDz7r7D1LGIyLtU8LsI1WztYCvA+8hLK4Zbpp2GqE27feAb1cSLzoxs62BY4C3A2sz/Crt6cBdhO0rZ/Tj9hUzOxr4aXz4d3ffJmU8ItI+Jcw+VDVbhjD1uS+wDfz/9u4kRK6qjcP4c2LSxCEOUT8xupArLkSCunAEBQXFEWecwOlTEQVFdOHGCfxQUdwoiLMRJyQLxWHhiPOIiImfm1goUREUTDSJZjCvi7digtqpU5Vble7k+UHTVHfde0/TFH/Oved9DzuRs7NChtA3wAfAXODFJqKf9rIj0X3+eQpwPnAo+Tf08iPwLvAI8Px4z1YnkpL/qx9YO7ueHRHzN+KQJA3IwNwEdErZkny++QewpJmEC2lKKTOA/5Irc/ej9/Pa1cDXwMvAvRHx+VAHuAFKKU8DZ3Zf3tmteZU0yRiYmpBKKQ1wOTmL3ovez22Xk+Urz5LlKxNmcU0p5TjyuSyz4adn4IaxnFU35N+1jOyc9CHwThPx/UYbrKRxGZiaFEo2criYXC08i7z9vD6LWFu+8uTGLF95vJRtX4eFF8C2OwDTYfkW/1wAtZp8ZjsGvA3cAbza+AGVJgwDU5NOyfrUc4FzyPKV7XscEsD3ZOedB0a560qnlCOAp1bAzDGYVnlYkLPO94Hzug35JW1kBqYmvW47v8uAk4F96F2+soosX3mJfP7ZaXtMnez0cxdZDjRo04mVZO3saU3EK22NTdJgDExtckop+5L1n0eRrel6la8sJctX5gIPRcSv45x3l+75PlrfCt1u3ewc4FQ2rNnEGr8BpzcRL7VwLkkDMjC1SeuWr5wIXEg2ENi54rAfgfeAR4HnIiJKKf8BvgRmAi8AZ41XF9op5WbgGtoJyzWWAoc0EfNaPKekPhiY2qyUUrYmy1fOAPanrnzlG+Bb4LB1fv4RcMLfV+N2StmPDNst2xpzV5C3kWdPxrIhaVNgYGqzVkrZg7x9ezy5H2jtwhyADnB0RHwFf92K/bJ7nmHsC7oU+F8TcesQzi2pBwNTWkcp5TDgUrJ8ZTd6B1+Qt27v+wJmTM9tzLYZ4hB/BnZxlimNnoEpjaNbvnI22UDhoB5vZw6sOhSm9lphtBy4kezxt5hsqnsNmdAVfgUuaiLm1r1dUlt6fbalzVZErIyIx4DHe713KnBgRVhC9i/cFXiKXJp7NXAl+ZC0wgxyU3FJI9bvNlHS5mgeufhnSvf7/4FPyL08pwCz9objlsPOYxUn2wq4ap3XRwK7A/O73yscUDtwSe3xlqxUobsZ9E7AvH8rJ1lQyoUB92wxQJOCn8jlty8Ae9YdshKY2UQs6fdakgbnDFOqEBELgAXj/X4K7Eh/K2yBTL6ryQ4HlWG55rDtyN6zkkbEZ5hSO/ouI1lNLvaZBtzU//X87Eoj5gxTasdicuZXNcsM4DryduzDtQetNQ34pb9DJG0oA1Nqx2dkU/cq1wNfAY8B0/u/1qImYnH/h0naEAam1I7PqVzw8x1ZUjIGHLzOz28BTqq71qf9DU1SGwxMqQVNxO+dUj4GDun13t3I2eWAlgDPDH64pEG5cEBqz+1kJ55he3oE15D0Nwam1J4XGW6px2/A/U3EsiFeQ9I4DEypJU3EKuBcMtiGYRFww5DOLakHA1NqURPxBvAE7YfmMuCsZpxNqyUNn4Epte8K4EPaC81lwFVNxFstnU/SAAxMqWVNxArgGOA1ctPnQQUZulc0EQ+2MTZJg7P5ujQknVIKcD5wN1l2WbOZyRpLgYXAGU3E/CEMT1KfDExpyDqlzAKuBS4hW8huw7/f3VlBttf7AbgNmNNErBzVOCWtn4EpjUinlOnAsWSDn8PJ7S+nAr8DXwBvdr8+bvxgShOOgSlJUgUX/UiSVMHAlCSpgoEpSVIFA1OSpAoGpiRJFQxMSZIqGJiSJFUwMCVJqmBgSpJUwcCUJKmCgSlJUgUDU5KkCgamJEkVDExJkioYmJIkVTAwJUmqYGBKklTBwJQkqYKBKUlSBQNTkqQKBqYkSRUMTEmSKhiYkiRVMDAlSapgYEqSVMHAlCSpgoEpSVIFA1OSpAoGpiRJFQxMSZIq/Aluc97N4gDMvQAAAABJRU5ErkJggg==\n",
      "text/plain": [
       "<Figure size 576x576 with 1 Axes>"
      ]
     },
     "metadata": {},
     "output_type": "display_data"
    }
   ],
   "source": [
    "plot_Graph_from_Im(E, use_student_made_algo=True)\n"
   ]
  },
  {
   "cell_type": "code",
   "execution_count": 14,
   "metadata": {
    "pycharm": {
     "is_executing": false,
     "name": "#%%\n"
    }
   },
   "outputs": [
    {
     "data": {
      "image/png": "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\n",
      "text/plain": [
       "<Figure size 576x576 with 1 Axes>"
      ]
     },
     "metadata": {},
     "output_type": "display_data"
    }
   ],
   "source": [
    "plot_Graph_from_Im(E, use_student_made_algo=False)"
   ]
  },
  {
   "cell_type": "code",
   "execution_count": null,
   "metadata": {},
   "outputs": [],
   "source": []
  }
 ],
 "metadata": {
  "kernelspec": {
   "display_name": "Python 3",
   "language": "python",
   "name": "python3"
  },
  "language_info": {
   "codemirror_mode": {
    "name": "ipython",
    "version": 3
   },
   "file_extension": ".py",
   "mimetype": "text/x-python",
   "name": "python",
   "nbconvert_exporter": "python",
   "pygments_lexer": "ipython3",
   "version": "3.8.2"
  },
  "pycharm": {
   "stem_cell": {
    "cell_type": "raw",
    "source": [],
    "metadata": {
     "collapsed": false
    }
   }
  }
 },
 "nbformat": 4,
 "nbformat_minor": 2
}
