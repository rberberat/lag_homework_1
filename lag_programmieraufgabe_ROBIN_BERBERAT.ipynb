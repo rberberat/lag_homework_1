{
 "cells": [
  {
   "cell_type": "markdown",
   "metadata": {},
   "source": [
    "# Programmierübung: Der Page Rank - Algorithmus\n",
    "\n",
    "## Modul: Lineare Algebra und Geometrie (lag)\n",
    "\n",
    "## FS 2020\n",
    "\n",
    "## Prof. Dr. Andreas Vogt\n",
    "\n",
    "Das folgende Notebook ist von Ihnen auszufüllen. Der Abgabetermin ist am 3. April 2020. Es wird sowohl die Korrektheit der Programme als auch die Darstellung bewertet. Wie genau die Note in die Erfahrungsnote bzw. die Endnote des Moduls einfliesst, ist zur Zeit noch nicht ganz klar."
   ]
  },
  {
   "cell_type": "markdown",
   "metadata": {},
   "source": [
    "Wir laden zuerst die für diese Übung benötigten Module. **Hinweis:** Wir benutzen das Modul `networkx` für die graphische Darstellung von Graphen. Gegebenenfalls müssen Sie dies noch nachinstallieren."
   ]
  },
  {
   "cell_type": "code",
   "execution_count": 15,
   "metadata": {
    "pycharm": {
     "is_executing": false
    }
   },
   "outputs": [],
   "source": [
    "import numpy as np\n",
    "import matplotlib.pyplot as plt\n",
    "import networkx as nx\n",
    "\n",
    "import scipy as scipy"
   ]
  },
  {
   "cell_type": "markdown",
   "metadata": {},
   "source": [
    "## Adjazenz- und Inzidenzmatrix"
   ]
  },
  {
   "cell_type": "markdown",
   "metadata": {},
   "source": [
    "Recherchieren Sie, was die Adjazenzmatrix bzw. die Inzidenzmatrix eines Graphen $G$ ist. Stellen Sie beide Konzepte in sauberem LaTeX dar. Illustrieren Sie beide Konzepte an Hand eines Beispiels."
   ]
  },
  {
   "cell_type": "code",
   "execution_count": null,
   "metadata": {
    "pycharm": {
     "is_executing": false
    }
   },
   "outputs": [],
   "source": []
  },
  {
   "cell_type": "markdown",
   "metadata": {},
   "source": [
    "Der folgende Graph sei nun gegeben:"
   ]
  },
  {
   "cell_type": "markdown",
   "metadata": {},
   "source": [
    "<img src=\"Graph1.png\" width=600>"
   ]
  },
  {
   "cell_type": "markdown",
   "metadata": {},
   "source": [
    "Definieren Sie zuerst seine Inzidenzmatrix $E$ als Numpy-array."
   ]
  },
  {
   "cell_type": "code",
   "execution_count": 16,
   "metadata": {
    "pycharm": {
     "is_executing": false
    }
   },
   "outputs": [],
   "source": [
    "nodes = [0, 1, 2, 3, 4, 5, 6, 7]\n",
    "edges = [[0, 1], [0, 6], [0, 7], \n",
    "         [1, 2], [1, 7], \n",
    "         [2, 1], [2, 7], \n",
    "         [3, 5], [3, 7], \n",
    "         [4, 5], \n",
    "         [5, 6], \n",
    "         [6, 5], \n",
    "         [7, 6]]\n",
    "\n",
    "G = nx.DiGraph()\n",
    "G.add_nodes_from(nodes)\n",
    "G.add_edges_from(edges)\n",
    "\n",
    "incidence_matrix = -nx.incidence_matrix(G, oriented=True)\n",
    "\n",
    "E = np.array(incidence_matrix.toarray())\n",
    "\n"
   ]
  },
  {
   "cell_type": "markdown",
   "metadata": {},
   "source": [
    "Schreiben Sie eine Funktion, die als Eingabe die Inzidenzmatrix eines Graphen erhält und die entsprechende Adjazenzmatrix ausgibt."
   ]
  },
  {
   "cell_type": "code",
   "execution_count": 17,
   "metadata": {
    "pycharm": {
     "is_executing": false
    }
   },
   "outputs": [],
   "source": [
    "def turn_im_into_am( E ):\n",
    "    edge_starting_points = np.where(E.T > 0)\n",
    "    edge_end_points = np.where(E.T < 0)\n",
    "\n",
    "    g = nx.DiGraph()\n",
    "\n",
    "    for i in range(len(E)):\n",
    "        g.add_node(i)\n",
    "\n",
    "    for i in range(len(edge_starting_points[1])):\n",
    "        foo = edge_starting_points[1][i]\n",
    "        bar = edge_end_points[1][i]\n",
    "        g.add_edge(foo, bar)\n",
    "\n",
    "    am = nx.adjacency_matrix(g)\n",
    "\n",
    "    return np.array(am.toarray())"
   ]
  },
  {
   "cell_type": "markdown",
   "metadata": {},
   "source": [
    "Zur Visualisierung Ihrer Graphen stellen wir Ihnen eine Funktion zur Verfügung. "
   ]
  },
  {
   "cell_type": "code",
   "execution_count": 18,
   "metadata": {
    "pycharm": {
     "is_executing": false
    }
   },
   "outputs": [],
   "source": [
    "def plot_graph( A, knoten_gewichte=None ):\n",
    "    \"\"\"\n",
    "    Funktion zur graphischen Darstellung eines Graphen. \n",
    "    Benutzt das 'spring layout', eventuell muss die Funktion mehrere Male ausgeführt werden, bis eine schöne Darstellung \n",
    "    des Graphen vorliegt.\n",
    "    \n",
    "    Arguments: \n",
    "    A -- Adjazenzmatrix (shape (n_knoten,n_knoten))\n",
    "    knoten_gewichte -- Liste mit Gewichte für jeden Knoten im Graphen (bei None erhalten alle Knoten die gleichen Gewichte)\n",
    "    \"\"\"\n",
    "    \n",
    "    if knoten_gewichte is None:\n",
    "        knoten_gewichte = np.array( [1] * A.shape[0] )\n",
    "    \n",
    "    assert( len( knoten_gewichte) == A.shape[0] )\n",
    "        \n",
    "    knoten_gewichte = knoten_gewichte / np.mean( knoten_gewichte )\n",
    "    \n",
    "    plt.figure(figsize=(8,8))\n",
    "    G = nx.DiGraph( A )\n",
    "    pos = nx.layout.spring_layout(G)\n",
    "    options = {\n",
    "    'node_color': '#dd0000',\n",
    "    'node_size': knoten_gewichte*2500,\n",
    "    'width': 3,\n",
    "    'arrowstyle': '-|>',\n",
    "    'arrowsize': 12,\n",
    "    }\n",
    "        \n",
    "    nx.draw_networkx(G, pos, arrows=True, **options )\n",
    "    plt.axis(\"off\")\n",
    "    plt.show()"
   ]
  },
  {
   "cell_type": "markdown",
   "metadata": {},
   "source": [
    "Lassen Sie von ihrer Funktion die Ajazenzmatrix $A$ zu der oben eingegebenen Inzidenzmatrix $E$ berechnen und visualisieren Sie den zugehörigen Graphen mit der obigen Funktion."
   ]
  },
  {
   "cell_type": "code",
   "execution_count": 19,
   "metadata": {
    "pycharm": {
     "is_executing": false
    }
   },
   "outputs": [
    {
     "data": {
      "image/png": "[encoded data removed]",
      "text/plain": [
       "<Figure size 576x576 with 1 Axes>"
      ]
     },
     "metadata": {},
     "output_type": "display_data"
    }
   ],
   "source": [
    "A = turn_im_into_am(E)\n",
    "plot_graph(A)"
   ]
  },
  {
   "cell_type": "markdown",
   "metadata": {},
   "source": [
    "Schreiben SIe eine Funktion, die als Eingabe die Adjazenzmatrix eines Graphen erhält und die entsprechende Inzidenzmatrix ausgibt."
   ]
  },
  {
   "cell_type": "code",
   "execution_count": 20,
   "metadata": {
    "pycharm": {
     "is_executing": false
    }
   },
   "outputs": [],
   "source": [
    "def turn_am_into_im(A):\n",
    "    g = nx.DiGraph(A)\n",
    "\n",
    "    im = -nx.incidence_matrix(g, oriented=True)\n",
    "\n",
    "    return np.array(im.toarray())\n"
   ]
  },
  {
   "cell_type": "markdown",
   "metadata": {},
   "source": [
    "## Der PageRank-Algorithmus"
   ]
  },
  {
   "cell_type": "markdown",
   "metadata": {},
   "source": [
    "Schreiben Sie eine Funktion, die als Eingabe die Inzidenzmatrix eines Graphens erhält und die zugehörige Link-Matrix $P$ ausgibt."
   ]
  },
  {
   "cell_type": "code",
   "execution_count": 33,
   "metadata": {
    "pycharm": {
     "is_executing": false
    }
   },
   "outputs": [],
   "source": [
    "def create_lm_from_im(im):\n",
    "    am = turn_im_into_am(im)\n",
    "    \n",
    "    foo = np.sum(am, axis=1, dtype=float)\n",
    "    \n",
    "    for i in foo:\n",
    "        i = 1/i\n",
    "        \n",
    "    print(foo)\n",
    "    \n",
    "    amt = am.T\n",
    "    \n",
    "    \n",
    "\n"
   ]
  },
  {
   "cell_type": "markdown",
   "metadata": {},
   "source": [
    "Schreiben Sie eine Funktion, die als Eingabe die Inzidenzmatrix eines Graphens erhält und als Ausgabe den Vektor $v$ mit $|v|=1$ ausgibt, der die Bedeutung der Webseiten erhält. Verwenden Sie $\\alpha=0.85$."
   ]
  },
  {
   "cell_type": "code",
   "execution_count": null,
   "metadata": {
    "pycharm": {
     "is_executing": false
    }
   },
   "outputs": [],
   "source": []
  },
  {
   "cell_type": "markdown",
   "metadata": {},
   "source": [
    "Schreiben Sie eine Funktion, die als Eingabe die Inzidenzmatrix eines Graphens erhält und den zugehörigen Graphen plottet, wobei die Grösse der Knoten proportional zu ihrer Bedeutung sein soll."
   ]
  },
  {
   "cell_type": "code",
   "execution_count": null,
   "metadata": {
    "pycharm": {
     "is_executing": false
    }
   },
   "outputs": [],
   "source": []
  },
  {
   "cell_type": "code",
   "execution_count": 34,
   "metadata": {
    "pycharm": {
     "name": "#%%\n",
     "is_executing": false
    }
   },
   "outputs": [
    {
     "name": "stdout",
     "text": [
      "[3. 2. 2. 2. 1. 1. 1. 1.]\n"
     ],
     "output_type": "stream"
    }
   ],
   "source": [
    "create_lm_from_im(E)\n"
   ]
  },
  {
   "cell_type": "code",
   "execution_count": null,
   "metadata": {
    "pycharm": {
     "name": "#%%\n"
    }
   },
   "outputs": [],
   "source": []
  },
  {
   "cell_type": "code",
   "execution_count": null,
   "metadata": {},
   "outputs": [],
   "source": []
  }
 ],
 "metadata": {
  "kernelspec": {
   "display_name": "Python 3",
   "language": "python",
   "name": "python3"
  },
  "language_info": {
   "codemirror_mode": {
    "name": "ipython",
    "version": 3
   },
   "file_extension": ".py",
   "mimetype": "text/x-python",
   "name": "python",
   "nbconvert_exporter": "python",
   "pygments_lexer": "ipython3",
   "version": "3.8.2"
  },
  "pycharm": {
   "stem_cell": {
    "cell_type": "raw",
    "source": [],
    "metadata": {
     "collapsed": false
    }
   }
  }
 },
 "nbformat": 4,
 "nbformat_minor": 2
}