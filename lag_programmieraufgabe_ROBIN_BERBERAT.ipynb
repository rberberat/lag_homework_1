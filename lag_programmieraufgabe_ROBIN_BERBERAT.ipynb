{
 "cells": [
  {
   "cell_type": "markdown",
   "metadata": {},
   "source": [
    "# Programmierübung: Der Page Rank - Algorithmus\n",
    "\n",
    "## Modul: Lineare Algebra und Geometrie (lag)\n",
    "\n",
    "## FS 2020\n",
    "\n",
    "## Prof. Dr. Andreas Vogt\n",
    "\n",
    "Das folgende Notebook ist von Ihnen auszufüllen. Der Abgabetermin ist am 3. April 2020. Es wird sowohl die Korrektheit der Programme als auch die Darstellung bewertet. Wie genau die Note in die Erfahrungsnote bzw. die Endnote des Moduls einfliesst, ist zur Zeit noch nicht ganz klar."
   ]
  },
  {
   "cell_type": "markdown",
   "metadata": {},
   "source": [
    "Wir laden zuerst die für diese Übung benötigten Module. **Hinweis:** Wir benutzen das Modul `networkx` für die graphische Darstellung von Graphen. Gegebenenfalls müssen Sie dies noch nachinstallieren."
   ]
  },
  {
   "cell_type": "code",
   "execution_count": 1,
   "metadata": {
    "pycharm": {
     "is_executing": false
    }
   },
   "outputs": [],
   "source": [
    "import numpy as np\n",
    "import matplotlib.pyplot as plt\n",
    "import networkx as nx\n",
    "import scipy"
   ]
  },
  {
   "cell_type": "markdown",
   "metadata": {},
   "source": [
    "## Adjazenz- und Inzidenzmatrix"
   ]
  },
  {
   "cell_type": "markdown",
   "metadata": {},
   "source": [
    "Recherchieren Sie, was die Adjazenzmatrix bzw. die Inzidenzmatrix eines Graphen $G$ ist. Stellen Sie beide Konzepte in sauberem LaTeX dar. Illustrieren Sie beide Konzepte an Hand eines Beispiels."
   ]
  },
  {
   "cell_type": "markdown",
   "metadata": {
    "pycharm": {
     "is_executing": false,
     "name": "#%% md\n"
    }
   },
   "source": [
    "$%! Author = robin\n",
    "%! Date = 31.03.2020\n",
    "\n",
    "% Preamble\n",
    "\\documentclass{article}\n",
    "\n",
    "% Packages\n",
    "\\usepackage{amsmath}\n",
    "\\usepackage{subfigure}\n",
    "\\usepackage{graphicx}\n",
    "\\usepackage {tikz}\n",
    "\\usetikzlibrary {positioning}\n",
    "\n",
    "\n",
    "\\definecolor {processblue}{cmyk}{0.96,0,0,0}\n",
    "\n",
    "% Document\n",
    "\\begin {document}\n",
    "\n",
    "    \\title{Inzidenz- und Adjazenzmatrizen von Graphen}\n",
    "    \\author{Robin Berberat}\n",
    "    \\maketitle\n",
    "\n",
    "    \\begin{figure}[h]\n",
    "        \\centering\n",
    "        \\begin {tikzpicture}[-latex ,auto ,node distance =4 cm and 5cm ,on grid ,\n",
    "        semithick ,\n",
    "        state/.style ={ circle ,top color =white , bottom color =white ,\n",
    "        draw,black , text=black , minimum width =1 cm}]\n",
    "            \\node[state] (A) {$v_1$};\n",
    "            \\node[state] (B) [right = of A] {$v_2$};\n",
    "            \\node[state] (C) [below = of A] {$v_3$};\n",
    "            \\node[state] (D) [right = of C] {$v_4$};\n",
    "            \\path (A) edge [bend right = 15]  node[below =0.15 cm] {$e_1$} (B);\n",
    "            \\path (A) edge node[below =0.15 cm] {$e_2$} (D);\n",
    "            \\path (B) edge [bend right = 15]  node[above =0.15 cm] {$e_3$} (A);\n",
    "            \\path (C) edge node[left =0.15 cm] {$e_4$} (A);\n",
    "            \\path (D) edge node[right =0.15 cm] {$e_5$} (B);\n",
    "        \\end{tikzpicture}\n",
    "        \\caption{Beispiel eines Graphen}\n",
    "    \\end{figure}\n",
    "\n",
    "    \\section{Inzidenzmatrizen}\n",
    "    Eine Inzidenzmatrix eines Graphen, ist eine Matrix, welche die Beziehungen zwischen der Knoten und Kanten des Graphen aufzeichent.\n",
    "    Bei n-Knoten und m-Kanten ergibt das eine \\(n\\times m\\)-Matrix. Aus den Werten der Zeilen und Spalten kann man ablesen, welche Knoten \\\"uber welche Kante miteinander verbunden sind.\n",
    "    \\begin{figure}[h]\n",
    "        \\centering\n",
    "        \\bordermatrix{\n",
    "            &e_1&e_2&e_3 &e_4&e_5  \\cr\n",
    "            v_1& 1 & 1 & -1 & -1 & 0 \\cr\n",
    "            v_2& -1 & 0 & 1 & 0 & -1 \\cr\n",
    "            v_3& 0 & 0 & 0 & 1 & 0  \\cr\n",
    "            v_4& 0 & -1 & 0 & 0 & 1}\n",
    "        \\caption{Inzidenzmatrix des Beispielgraphen}\n",
    "    \\end{figure}\n",
    "\n",
    "    \\section{Adjazenzmatrizen}\n",
    "    Eine Adjazenzmatrix eines Graphen, ist eine Matrix, welche die Verbindungen zwischen der Knoten des Graphen aufzeichent.\n",
    "    Bei n-Knoten ergibt das eine \\(n\\times n\\)-Matrix. Aus den Werten der Zeilen und Spalten kann man ablesen, welche Knoten miteinander verbunden sind.\n",
    "\n",
    "    \\begin{figure}[h]\n",
    "        \\centering\n",
    "        \\bordermatrix{\n",
    "            &v_1&v_2&v_3 &v_4  \\cr\n",
    "            v_1& 0 & 1 & 0 & 1 \\cr\n",
    "            v_2& 1 & 0 & 0 & 0 \\cr\n",
    "            v_3& 1 & 0 & 0 & 0  \\cr\n",
    "            v_4& 0 & 1 & 0 & 0 }\n",
    "        \\caption{Adjazenzmatrix des Beispielgraphen}\n",
    "    \\end{figure}\n",
    "\n",
    "\n",
    "\\end{document}$"
   ]
  },
  {
   "cell_type": "markdown",
   "source": [
    "<img src=\"IM.png\" width=1000>"
   ],
   "metadata": {
    "collapsed": false,
    "pycharm": {
     "name": "#%% md\n"
    }
   }
  },
  {
   "cell_type": "markdown",
   "source": [
    "<img src=\"AM.png\" width=1000>"
   ],
   "metadata": {
    "collapsed": false,
    "pycharm": {
     "name": "#%% md\n"
    }
   }
  },
  {
   "cell_type": "markdown",
   "metadata": {},
   "source": [
    "Der folgende Graph sei nun gegeben:"
   ]
  },
  {
   "cell_type": "markdown",
   "metadata": {},
   "source": [
    "<img src=\"Graph1.png\" width=600>"
   ]
  },
  {
   "cell_type": "markdown",
   "metadata": {},
   "source": [
    "Definieren Sie zuerst seine Inzidenzmatrix $E$ als Numpy-array."
   ]
  },
  {
   "cell_type": "code",
   "execution_count": 2,
   "metadata": {
    "pycharm": {
     "is_executing": false
    }
   },
   "outputs": [],
   "source": [
    "nodes = [0, 1, 2, 3, 4, 5, 6, 7]\n",
    "edges = [[0, 1], [0, 6], [0, 7], \n",
    "         [1, 2], [1, 7], \n",
    "         [2, 1], [2, 7], \n",
    "         [3, 5], [3, 7], \n",
    "         [4, 5], \n",
    "         [5, 6], \n",
    "         [6, 5], \n",
    "         [7, 6]]\n",
    "\n",
    "G = nx.DiGraph()\n",
    "G.add_nodes_from(nodes)\n",
    "G.add_edges_from(edges)\n",
    "\n",
    "incidence_matrix = -nx.incidence_matrix(G, oriented=True)\n",
    "\n",
    "E = np.array(incidence_matrix.toarray())\n",
    "\n"
   ]
  },
  {
   "cell_type": "markdown",
   "metadata": {},
   "source": [
    "Schreiben Sie eine Funktion, die als Eingabe die Inzidenzmatrix eines Graphen erhält und die entsprechende Adjazenzmatrix ausgibt."
   ]
  },
  {
   "cell_type": "code",
   "execution_count": 3,
   "metadata": {
    "pycharm": {
     "is_executing": false
    }
   },
   "outputs": [],
   "source": [
    "def turn_im_into_am( E ):\n",
    "    edge_starting_points = np.where(E.T > 0)\n",
    "    edge_end_points = np.where(E.T < 0)\n",
    "\n",
    "    g = nx.DiGraph()\n",
    "\n",
    "    for i in range(len(E)):\n",
    "        g.add_node(i)\n",
    "\n",
    "    for i in range(len(edge_starting_points[1])):\n",
    "        foo = edge_starting_points[1][i]\n",
    "        bar = edge_end_points[1][i]\n",
    "        g.add_edge(foo, bar)\n",
    "\n",
    "    am = nx.adjacency_matrix(g)\n",
    "\n",
    "    return np.array(am.toarray())"
   ]
  },
  {
   "cell_type": "markdown",
   "metadata": {},
   "source": [
    "Zur Visualisierung Ihrer Graphen stellen wir Ihnen eine Funktion zur Verfügung. "
   ]
  },
  {
   "cell_type": "code",
   "execution_count": 4,
   "metadata": {
    "pycharm": {
     "is_executing": false
    }
   },
   "outputs": [],
   "source": [
    "def plot_graph( A, knoten_gewichte=None ):\n",
    "    \"\"\"\n",
    "    Funktion zur graphischen Darstellung eines Graphen. \n",
    "    Benutzt das 'spring layout', eventuell muss die Funktion mehrere Male ausgeführt werden, bis eine schöne Darstellung \n",
    "    des Graphen vorliegt.\n",
    "    \n",
    "    Arguments: \n",
    "    A -- Adjazenzmatrix (shape (n_knoten,n_knoten))\n",
    "    knoten_gewichte -- Liste mit Gewichte für jeden Knoten im Graphen (bei None erhalten alle Knoten die gleichen Gewichte)\n",
    "    \"\"\"\n",
    "    \n",
    "    if knoten_gewichte is None:\n",
    "        knoten_gewichte = np.array( [1] * A.shape[0] )\n",
    "    \n",
    "    assert( len( knoten_gewichte) == A.shape[0] )\n",
    "        \n",
    "    knoten_gewichte = knoten_gewichte / np.mean( knoten_gewichte )\n",
    "    \n",
    "    plt.figure(figsize=(8,8))\n",
    "    G = nx.DiGraph( A )\n",
    "    pos = nx.layout.spring_layout(G)\n",
    "    options = {\n",
    "    'node_color': '#dd0000',\n",
    "    'node_size': knoten_gewichte*2500,\n",
    "    'width': 3,\n",
    "    'arrowstyle': '-|>',\n",
    "    'arrowsize': 12,\n",
    "    }\n",
    "        \n",
    "    nx.draw_networkx(G, pos, arrows=True, **options )\n",
    "    plt.axis(\"off\")\n",
    "    plt.show()"
   ]
  },
  {
   "cell_type": "markdown",
   "metadata": {},
   "source": [
    "Lassen Sie von ihrer Funktion die Ajazenzmatrix $A$ zu der oben eingegebenen Inzidenzmatrix $E$ berechnen und visualisieren Sie den zugehörigen Graphen mit der obigen Funktion."
   ]
  },
  {
   "cell_type": "code",
   "execution_count": 5,
   "metadata": {
    "pycharm": {
     "is_executing": false
    }
   },
   "outputs": [
    {
     "data": {
      "text/plain": "<Figure size 576x576 with 1 Axes>",
      "image/png": "[encoded data removed]"
     },
     "metadata": {},
     "output_type": "display_data"
    }
   ],
   "source": [
    "A = turn_im_into_am(E)\n",
    "plot_graph(A)"
   ]
  },
  {
   "cell_type": "markdown",
   "metadata": {},
   "source": [
    "Schreiben SIe eine Funktion, die als Eingabe die Adjazenzmatrix eines Graphen erhält und die entsprechende Inzidenzmatrix ausgibt."
   ]
  },
  {
   "cell_type": "code",
   "execution_count": 6,
   "metadata": {
    "pycharm": {
     "is_executing": false
    }
   },
   "outputs": [],
   "source": [
    "def turn_am_into_im(A):\n",
    "    g = nx.DiGraph(A)\n",
    "\n",
    "    im = -nx.incidence_matrix(g, oriented=True)\n",
    "\n",
    "    return np.array(im.toarray())\n"
   ]
  },
  {
   "cell_type": "markdown",
   "metadata": {},
   "source": [
    "## Der PageRank-Algorithmus"
   ]
  },
  {
   "cell_type": "markdown",
   "metadata": {},
   "source": [
    "Schreiben Sie eine Funktion, die als Eingabe die Inzidenzmatrix eines Graphens erhält und die zugehörige Link-Matrix $P$ ausgibt."
   ]
  },
  {
   "cell_type": "code",
   "execution_count": 7,
   "metadata": {
    "pycharm": {
     "is_executing": false
    }
   },
   "outputs": [],
   "source": [
    "def create_lm_from_im(im):\n",
    "    am = turn_im_into_am(im)\n",
    "    am = am.astype(float)\n",
    "\n",
    "    foo = np.sum(am, axis=1, dtype=float)\n",
    "\n",
    "    for i, s in enumerate(foo):\n",
    "        foo[i] = 1/s\n",
    "\n",
    "    for iterable, value in enumerate(am):\n",
    "        am[iterable] = value*foo[iterable]\n",
    "\n",
    "    return am.T"
   ]
  },
  {
   "cell_type": "markdown",
   "metadata": {},
   "source": [
    "Schreiben Sie eine Funktion, die als Eingabe die Inzidenzmatrix eines Graphens erhält und als Ausgabe den Vektor $v$ mit $|v|=1$ ausgibt, der die Bedeutung der Webseiten erhält. Verwenden Sie $\\alpha=0.85$."
   ]
  },
  {
   "cell_type": "code",
   "execution_count": 8,
   "metadata": {
    "pycharm": {
     "is_executing": false
    }
   },
   "outputs": [],
   "source": [
    "# Studentenversion\n",
    "def create_meaning_vector_from_im(im, alpha=0.85):\n",
    "\n",
    "    # Create Link Matrix and multiply by alpha to get P\n",
    "    P = create_lm_from_im(im)\n",
    "    P = P * alpha\n",
    "\n",
    "    # Create Matrix of Random Surf-behaviour and multiply by 1-alpha to get S\n",
    "    S = np.ones((len(P), len(P)), dtype=float)/len(P)\n",
    "    S = S * (1-alpha)\n",
    "\n",
    "    # Combine P and S to get the Google Matrix\n",
    "    G = P + S #G\n",
    "\n",
    "    # Create Identity Matrix En\n",
    "    En = np.eye(len(G), dtype=float)\n",
    "\n",
    "    # Subtract Identity Matrix (En) from Google Matrix (G) to get our A for the formula Ax = B\n",
    "    A = G - En #G-En\n",
    "\n",
    "    # Create B for the Formula Ax = B. A Vector of Ones is chosen, since a vector of 0s would yield an unusable result.\n",
    "    B = np.ones((len(A)), dtype=float)\n",
    "\n",
    "    # Solve the Formula for x.\n",
    "    solution = np.linalg.solve(A, B)\n",
    "\n",
    "    # Normalize the Solution\n",
    "    solution_normalizer = np.linalg.norm(solution)\n",
    "    normalized_solution = []\n",
    "    for result in solution:\n",
    "        normalized_result = result / solution_normalizer\n",
    "        if normalized_result < 0:\n",
    "            normalized_result = 0\n",
    "        normalized_solution.append(normalized_result)\n",
    "\n",
    "    return normalized_solution\n",
    "\n",
    "# Professionellere Lösung\n",
    "def create_PageRank_with_NXAlgo(im, alpha=0.85):\n",
    "    g = nx.DiGraph(turn_im_into_am(im))\n",
    "\n",
    "    return list(nx.pagerank(g, alpha=alpha).values())"
   ]
  },
  {
   "cell_type": "markdown",
   "metadata": {},
   "source": [
    "Schreiben Sie eine Funktion, die als Eingabe die Inzidenzmatrix eines Graphens erhält und den zugehörigen Graphen plottet, wobei die Grösse der Knoten proportional zu ihrer Bedeutung sein soll."
   ]
  },
  {
   "cell_type": "code",
   "execution_count": 9,
   "metadata": {
    "pycharm": {
     "is_executing": false
    }
   },
   "outputs": [],
   "source": [
    "def plot_Graph_from_Im(IM, use_student_made_algo=False):\n",
    "    AM = turn_im_into_am(IM)\n",
    "\n",
    "    if(use_student_made_algo):\n",
    "        weights = create_meaning_vector_from_im(IM)\n",
    "    else:\n",
    "        weights = create_PageRank_with_NXAlgo(IM)\n",
    "\n",
    "    plot_graph(AM, knoten_gewichte=weights)"
   ]
  },
  {
   "cell_type": "code",
   "execution_count": 10,
   "metadata": {
    "pycharm": {
     "is_executing": false,
     "name": "#%%\n"
    }
   },
   "outputs": [
    {
     "data": {
      "text/plain": "<Figure size 576x576 with 1 Axes>",
      "image/png": "[encoded data removed]"
     },
     "metadata": {},
     "output_type": "display_data"
    }
   ],
   "source": [
    "plot_Graph_from_Im(E, use_student_made_algo=True)\n"
   ]
  },
  {
   "cell_type": "code",
   "execution_count": 11,
   "metadata": {
    "pycharm": {
     "is_executing": false,
     "name": "#%%\n"
    }
   },
   "outputs": [
    {
     "data": {
      "text/plain": "<Figure size 576x576 with 1 Axes>",
      "image/png": "[encoded data removed]"
     },
     "metadata": {},
     "output_type": "display_data"
    }
   ],
   "source": [
    "plot_Graph_from_Im(E, use_student_made_algo=False)"
   ]
  },
  {
   "cell_type": "code",
   "execution_count": 11,
   "metadata": {
    "pycharm": {
     "is_executing": false
    }
   },
   "outputs": [],
   "source": []
  }
 ],
 "metadata": {
  "kernelspec": {
   "display_name": "Python 3",
   "language": "python",
   "name": "python3"
  },
  "language_info": {
   "codemirror_mode": {
    "name": "ipython",
    "version": 3
   },
   "file_extension": ".py",
   "mimetype": "text/x-python",
   "name": "python",
   "nbconvert_exporter": "python",
   "pygments_lexer": "ipython3",
   "version": "3.8.2"
  },
  "pycharm": {
   "stem_cell": {
    "cell_type": "raw",
    "source": [],
    "metadata": {
     "collapsed": false
    }
   }
  }
 },
 "nbformat": 4,
 "nbformat_minor": 2
}