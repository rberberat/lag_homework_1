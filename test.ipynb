{
 "cells": [
  {
   "cell_type": "code",
   "execution_count": 10,
   "metadata": {
    "pycharm": {
     "is_executing": false
    }
   },
   "outputs": [],
   "source": [
    "import numpy as np\n",
    "import matplotlib.pyplot as plt\n",
    "import networkx as nx\n",
    "import scipy"
   ]
  },
  {
   "cell_type": "code",
   "execution_count": 11,
   "metadata": {
    "pycharm": {
     "is_executing": false,
     "name": "#%%\n"
    }
   },
   "outputs": [
    {
     "name": "stdout",
     "output_type": "stream",
     "text": [
      "\n",
      "[[ 1.  1.  1.  0.  0.  0.  0.  0.  0.  0.  0.  0.  0.]\n",
      " [-1.  0.  0.  1.  1. -1.  0.  0.  0.  0.  0.  0.  0.]\n",
      " [ 0.  0.  0. -1.  0.  1.  1.  0.  0.  0.  0.  0.  0.]\n",
      " [ 0.  0.  0.  0.  0.  0.  0.  1.  1.  0.  0.  0.  0.]\n",
      " [ 0.  0.  0.  0.  0.  0.  0.  0.  0.  1.  0.  0.  0.]\n",
      " [ 0.  0.  0.  0.  0.  0.  0. -1.  0. -1.  1. -1.  0.]\n",
      " [ 0. -1.  0.  0.  0.  0.  0.  0.  0.  0. -1.  1. -1.]\n",
      " [ 0.  0. -1.  0. -1.  0. -1.  0. -1.  0.  0.  0.  1.]]\n"
     ]
    }
   ],
   "source": [
    "nodes = [0, 1, 2, 3, 4, 5, 6, 7]\n",
    "edges = [[0, 1], [0, 6], [0, 7], \n",
    "         [1, 2], [1, 7], \n",
    "         [2, 1], [2, 7], \n",
    "         [3, 5], [3, 7], \n",
    "         [4, 5], \n",
    "         [5, 6], \n",
    "         [6, 5], \n",
    "         [7, 6],]\n",
    "\n",
    "G = nx.DiGraph()\n",
    "G.add_nodes_from(nodes)\n",
    "G.add_edges_from(edges)\n",
    "\n",
    "print(G)\n",
    "\n",
    "incidence_matrix = -nx.incidence_matrix(G, oriented=True)\n",
    "\n",
    "print(incidence_matrix.toarray())\n",
    "\n",
    "E = np.array(incidence_matrix.toarray())"
   ]
  },
  {
   "cell_type": "code",
   "execution_count": 22,
   "metadata": {
    "pycharm": {
     "is_executing": false,
     "name": "#%%\n"
    }
   },
   "outputs": [],
   "source": [
    "a1 = np.where(E.T == 1)\n",
    "a2 = np.where(E.T == -1)\n",
    "\n",
    "G2 = nx.DiGraph()\n",
    "\n",
    "for i in range(len(E)):\n",
    "    G2.add_node(i)\n",
    "\n",
    "for i in range(len(a1[1])):\n",
    "    foo = a1[1][i]\n",
    "    bar = a2[1][i]\n",
    "    G2.add_edge(foo, bar)\n",
    "\n",
    "am = nx.adjacency_matrix(G2)\n",
    "\n",
    "A = np.array(am.toarray())\n",
    "\n"
   ]
  },
  {
   "cell_type": "code",
   "execution_count": 23,
   "metadata": {
    "pycharm": {
     "is_executing": false
    }
   },
   "outputs": [
    {
     "name": "stdout",
     "output_type": "stream",
     "text": [
      "[[ 1.  1.  1.  0.  0.  0.  0.  0.  0.  0.  0.  0.  0.]\n",
      " [-1.  0.  0.  1.  1. -1.  0.  0.  0.  0.  0.  0.  0.]\n",
      " [ 0.  0.  0. -1.  0.  1.  1.  0.  0.  0.  0.  0.  0.]\n",
      " [ 0.  0.  0.  0.  0.  0.  0.  1.  1.  0.  0.  0.  0.]\n",
      " [ 0.  0.  0.  0.  0.  0.  0.  0.  0.  1.  0.  0.  0.]\n",
      " [ 0.  0.  0.  0.  0.  0.  0. -1.  0. -1.  1. -1.  0.]\n",
      " [ 0. -1.  0.  0.  0.  0.  0.  0.  0.  0. -1.  1. -1.]\n",
      " [ 0.  0. -1.  0. -1.  0. -1.  0. -1.  0.  0.  0.  1.]]\n",
      "[[ 1.  1.  1.  0.  0.  0.  0.  0.  0.  0.  0.  0.  0.]\n",
      " [-1.  0.  0.  1.  1. -1.  0.  0.  0.  0.  0.  0.  0.]\n",
      " [ 0.  0.  0. -1.  0.  1.  1.  0.  0.  0.  0.  0.  0.]\n",
      " [ 0.  0.  0.  0.  0.  0.  0.  1.  1.  0.  0.  0.  0.]\n",
      " [ 0.  0.  0.  0.  0.  0.  0.  0.  0.  1.  0.  0.  0.]\n",
      " [ 0.  0.  0.  0.  0.  0.  0. -1.  0. -1.  1. -1.  0.]\n",
      " [ 0. -1.  0.  0.  0.  0.  0.  0.  0.  0. -1.  1. -1.]\n",
      " [ 0.  0. -1.  0. -1.  0. -1.  0. -1.  0.  0.  0.  1.]]\n"
     ]
    }
   ],
   "source": [
    "G3 = nx.DiGraph(A)\n",
    "\n",
    "incidence_matrix2 = -nx.incidence_matrix(G3, oriented=True)\n",
    "\n",
    "print(incidence_matrix2.toarray())\n",
    "\n",
    "E2 = np.array(incidence_matrix2.toarray())\n",
    "\n"
   ]
  }
 ],
 "metadata": {
  "kernelspec": {
   "display_name": "Python 3",
   "language": "python",
   "name": "python3"
  },
  "language_info": {
   "codemirror_mode": {
    "name": "ipython",
    "version": 3
   },
   "file_extension": ".py",
   "mimetype": "text/x-python",
   "name": "python",
   "nbconvert_exporter": "python",
   "pygments_lexer": "ipython3",
   "version": "3.8.2"
  },
  "pycharm": {
   "stem_cell": {
    "cell_type": "raw",
    "source": [],
    "metadata": {
     "collapsed": false
    }
   }
  }
 },
 "nbformat": 4,
 "nbformat_minor": 1
}